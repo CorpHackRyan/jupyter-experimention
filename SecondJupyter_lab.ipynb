{
 "cells": [
  {
   "cell_type": "code",
   "execution_count": 4,
   "id": "48d05e0e-f76d-423d-8822-0598bed8af13",
   "metadata": {},
   "outputs": [],
   "source": [
    "import numpy as np"
   ]
  },
  {
   "cell_type": "code",
   "execution_count": 5,
   "id": "b8fe1e39-311c-4e21-b1fd-b4c992a82785",
   "metadata": {},
   "outputs": [],
   "source": [
    "arr = np.array([[2,4],[3,2]])"
   ]
  },
  {
   "cell_type": "code",
   "execution_count": 6,
   "id": "c6aa1c80-4fe0-4afe-9b21-5d9c9c69ae77",
   "metadata": {},
   "outputs": [
    {
     "data": {
      "text/plain": [
       "array([[2, 4],\n",
       "       [3, 2]])"
      ]
     },
     "execution_count": 6,
     "metadata": {},
     "output_type": "execute_result"
    }
   ],
   "source": [
    "arr"
   ]
  },
  {
   "cell_type": "code",
   "execution_count": 7,
   "id": "9504417a-bd07-495e-aa3d-a13680cec6ed",
   "metadata": {},
   "outputs": [
    {
     "data": {
      "text/plain": [
       "2"
      ]
     },
     "execution_count": 7,
     "metadata": {},
     "output_type": "execute_result"
    }
   ],
   "source": [
    "arr.min()"
   ]
  },
  {
   "cell_type": "code",
   "execution_count": 8,
   "id": "710f0354-18ef-424c-9316-0be3e4e5f242",
   "metadata": {},
   "outputs": [
    {
     "data": {
      "text/plain": [
       "4"
      ]
     },
     "execution_count": 8,
     "metadata": {},
     "output_type": "execute_result"
    }
   ],
   "source": [
    "arr.max()"
   ]
  },
  {
   "cell_type": "code",
   "execution_count": 9,
   "id": "d9ac46c9-67fd-4822-9cf4-1a3fa4c8722e",
   "metadata": {},
   "outputs": [
    {
     "data": {
      "text/plain": [
       "0"
      ]
     },
     "execution_count": 9,
     "metadata": {},
     "output_type": "execute_result"
    }
   ],
   "source": [
    "arr.argmin()"
   ]
  },
  {
   "cell_type": "code",
   "execution_count": 10,
   "id": "36747c6d-3aed-457b-8545-5902217d80fe",
   "metadata": {},
   "outputs": [
    {
     "data": {
      "text/plain": [
       "11"
      ]
     },
     "execution_count": 10,
     "metadata": {},
     "output_type": "execute_result"
    }
   ],
   "source": [
    "arr.sum() # sums up all the elements in the array"
   ]
  },
  {
   "cell_type": "code",
   "execution_count": 11,
   "id": "3b1c4c15-2978-42c3-bca0-6fc848f18025",
   "metadata": {},
   "outputs": [
    {
     "data": {
      "text/plain": [
       "array([5, 6])"
      ]
     },
     "execution_count": 11,
     "metadata": {},
     "output_type": "execute_result"
    }
   ],
   "source": [
    "# Row-rise addition \n",
    "arr.sum(axis=0)"
   ]
  },
  {
   "cell_type": "code",
   "execution_count": 12,
   "id": "eb966c18-040a-490b-9171-4a271ec5c622",
   "metadata": {},
   "outputs": [
    {
     "data": {
      "text/plain": [
       "array([6, 5])"
      ]
     },
     "execution_count": 12,
     "metadata": {},
     "output_type": "execute_result"
    }
   ],
   "source": [
    "# Column-wise addition\n",
    "arr.sum(axis=1)"
   ]
  },
  {
   "cell_type": "code",
   "execution_count": 13,
   "id": "2c05ba25-950e-4b48-9bae-1088d036e195",
   "metadata": {},
   "outputs": [],
   "source": [
    "# To get the list of all possible parameters inside Jupyter for a function, type 'shift-tab' and it will display the list of items available"
   ]
  },
  {
   "cell_type": "code",
   "execution_count": 14,
   "id": "25a119d9-a635-44b6-8f11-68b5c2423b32",
   "metadata": {},
   "outputs": [
    {
     "data": {
      "text/plain": [
       "2.75"
      ]
     },
     "execution_count": 14,
     "metadata": {},
     "output_type": "execute_result"
    }
   ],
   "source": [
    "# sum() gives you the sum of all the elements, size() gives you total amount of elements\n",
    "arr.sum()/arr.size # gives you the average"
   ]
  },
  {
   "cell_type": "code",
   "execution_count": 16,
   "id": "7218c1ae-da43-4f20-b930-8de07aabed1e",
   "metadata": {},
   "outputs": [
    {
     "data": {
      "text/plain": [
       "2.75"
      ]
     },
     "execution_count": 16,
     "metadata": {},
     "output_type": "execute_result"
    }
   ],
   "source": [
    "# easier way to get average (the mean):\n",
    "arr.mean()"
   ]
  },
  {
   "cell_type": "code",
   "execution_count": 30,
   "id": "25b6e90a-33e6-4ea2-a886-72ead9aa8984",
   "metadata": {},
   "outputs": [],
   "source": [
    "arr2 = np.array([1,1,1,2,2,3,3,3,3,4,4,5,6,1000])"
   ]
  },
  {
   "cell_type": "code",
   "execution_count": 19,
   "id": "63f1a4c7-738b-4a28-b5e8-fb2df7fb5c93",
   "metadata": {},
   "outputs": [
    {
     "data": {
      "text/plain": [
       "38"
      ]
     },
     "execution_count": 19,
     "metadata": {},
     "output_type": "execute_result"
    }
   ],
   "source": [
    "arr2.sum()"
   ]
  },
  {
   "cell_type": "code",
   "execution_count": 31,
   "id": "2f853603-fd89-4965-afeb-2557328b148f",
   "metadata": {},
   "outputs": [
    {
     "data": {
      "text/plain": [
       "14"
      ]
     },
     "execution_count": 31,
     "metadata": {},
     "output_type": "execute_result"
    }
   ],
   "source": [
    "arr2.size"
   ]
  },
  {
   "cell_type": "code",
   "execution_count": 32,
   "id": "ebb68dc5-77e8-4be7-b06e-1d6a64422289",
   "metadata": {},
   "outputs": [
    {
     "data": {
      "text/plain": [
       "74.14285714285714"
      ]
     },
     "execution_count": 32,
     "metadata": {},
     "output_type": "execute_result"
    }
   ],
   "source": [
    "arr2.sum()/arr2.size"
   ]
  },
  {
   "cell_type": "code",
   "execution_count": 34,
   "id": "505d095b-d21f-4ae6-934c-d87a72c072c8",
   "metadata": {},
   "outputs": [
    {
     "data": {
      "text/plain": [
       "3.0"
      ]
     },
     "execution_count": 34,
     "metadata": {},
     "output_type": "execute_result"
    }
   ],
   "source": [
    "np.median(arr2)"
   ]
  },
  {
   "cell_type": "code",
   "execution_count": 45,
   "id": "1298211d-7828-446b-93ce-315da5e26875",
   "metadata": {},
   "outputs": [],
   "source": [
    "arr3 = np.array([1,1,1,2,2,3,3,3,3,4,4,5,6])"
   ]
  },
  {
   "cell_type": "code",
   "execution_count": 39,
   "id": "53ea49f7-6acf-48ab-86cd-26864f8fb62d",
   "metadata": {},
   "outputs": [
    {
     "data": {
      "text/plain": [
       "2.923076923076923"
      ]
     },
     "execution_count": 39,
     "metadata": {},
     "output_type": "execute_result"
    }
   ],
   "source": [
    "np.mean(arr3) "
   ]
  },
  {
   "cell_type": "code",
   "execution_count": 46,
   "id": "2fd01456-5975-423e-a82c-6d8288e4bb98",
   "metadata": {},
   "outputs": [
    {
     "data": {
      "text/plain": [
       "1.4915938022819473"
      ]
     },
     "execution_count": 46,
     "metadata": {},
     "output_type": "execute_result"
    }
   ],
   "source": [
    "np.sqrt(arr3.var())"
   ]
  },
  {
   "cell_type": "code",
   "execution_count": null,
   "id": "bbb6a930-b7cd-4868-9e6a-93f25bf683b5",
   "metadata": {},
   "outputs": [],
   "source": []
  }
 ],
 "metadata": {
  "kernelspec": {
   "display_name": "Python 3 (ipykernel)",
   "language": "python",
   "name": "python3"
  },
  "language_info": {
   "codemirror_mode": {
    "name": "ipython",
    "version": 3
   },
   "file_extension": ".py",
   "mimetype": "text/x-python",
   "name": "python",
   "nbconvert_exporter": "python",
   "pygments_lexer": "ipython3",
   "version": "3.8.10"
  }
 },
 "nbformat": 4,
 "nbformat_minor": 5
}
