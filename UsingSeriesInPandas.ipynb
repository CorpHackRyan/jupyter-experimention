{
 "cells": [
  {
   "cell_type": "code",
   "execution_count": 6,
   "id": "3928ce8c-b2dc-4a51-9097-9f2270537215",
   "metadata": {},
   "outputs": [],
   "source": [
    "import pandas as pd"
   ]
  },
  {
   "cell_type": "code",
   "execution_count": 15,
   "id": "7e87bd7b-3915-4dc4-86ce-61a8348b1480",
   "metadata": {},
   "outputs": [],
   "source": [
    "# create a series without labels\n",
    "s = pd.Series([18,22,53,34,25,16,7,8,9,0,10]) "
   ]
  },
  {
   "cell_type": "code",
   "execution_count": 5,
   "id": "efca5bc2-3e66-4607-a1fb-0c224942fcca",
   "metadata": {},
   "outputs": [
    {
     "name": "stdout",
     "output_type": "stream",
     "text": [
      "Collecting pandas\n",
      "  Downloading pandas-1.4.2-cp38-cp38-manylinux_2_17_x86_64.manylinux2014_x86_64.whl (11.7 MB)\n",
      "\u001b[K     |████████████████████████████████| 11.7 MB 6.3 MB/s eta 0:00:01\n",
      "\u001b[?25hRequirement already satisfied: python-dateutil>=2.8.1 in /home/krete77/.local/lib/python3.8/site-packages (from pandas) (2.8.2)\n",
      "Requirement already satisfied: numpy>=1.18.5; platform_machine != \"aarch64\" and platform_machine != \"arm64\" and python_version < \"3.10\" in /home/krete77/.local/lib/python3.8/site-packages (from pandas) (1.22.4)\n",
      "Collecting pytz>=2020.1\n",
      "  Downloading pytz-2022.1-py2.py3-none-any.whl (503 kB)\n",
      "\u001b[K     |████████████████████████████████| 503 kB 49.1 MB/s eta 0:00:01\n",
      "\u001b[?25hRequirement already satisfied: six>=1.5 in /usr/lib/python3/dist-packages (from python-dateutil>=2.8.1->pandas) (1.14.0)\n",
      "Installing collected packages: pytz, pandas\n",
      "Successfully installed pandas-1.4.2 pytz-2022.1\n",
      "Note: you may need to restart the kernel to use updated packages.\n"
     ]
    }
   ],
   "source": [
    "# pip install pandas"
   ]
  },
  {
   "cell_type": "code",
   "execution_count": 8,
   "id": "aa84406c-c3b2-4e0d-9c3d-2be060f315a4",
   "metadata": {},
   "outputs": [
    {
     "data": {
      "text/plain": [
       "0     18\n",
       "1     22\n",
       "2     53\n",
       "3     34\n",
       "4     25\n",
       "5     16\n",
       "6      7\n",
       "7      8\n",
       "8      9\n",
       "9      0\n",
       "10    10\n",
       "dtype: int64"
      ]
     },
     "execution_count": 8,
     "metadata": {},
     "output_type": "execute_result"
    }
   ],
   "source": [
    "s   # Series s without labels"
   ]
  },
  {
   "cell_type": "code",
   "execution_count": 9,
   "id": "82b24ff8-1024-48d0-ab3b-b399b1c9e099",
   "metadata": {},
   "outputs": [],
   "source": [
    "# Create a series with labels\n",
    "s2 = pd.Series([18,22,53,34,25,16,7,8,9,0,10], index=['a','b','c','d','e','f','g','h','i','j','k'])\n"
   ]
  },
  {
   "cell_type": "code",
   "execution_count": 10,
   "id": "89b31512-0965-4b24-873a-c0ba3f4291cb",
   "metadata": {},
   "outputs": [
    {
     "data": {
      "text/plain": [
       "a    18\n",
       "b    22\n",
       "c    53\n",
       "d    34\n",
       "e    25\n",
       "f    16\n",
       "g     7\n",
       "h     8\n",
       "i     9\n",
       "j     0\n",
       "k    10\n",
       "dtype: int64"
      ]
     },
     "execution_count": 10,
     "metadata": {},
     "output_type": "execute_result"
    }
   ],
   "source": [
    "s2"
   ]
  },
  {
   "cell_type": "code",
   "execution_count": 12,
   "id": "bd77dfd4-f8da-4058-a8c1-c2f18be996d6",
   "metadata": {},
   "outputs": [
    {
     "data": {
      "text/plain": [
       "25"
      ]
     },
     "execution_count": 12,
     "metadata": {},
     "output_type": "execute_result"
    }
   ],
   "source": [
    "# referencing series 2 with labels at label \n",
    "s2['e']  "
   ]
  },
  {
   "cell_type": "code",
   "execution_count": 13,
   "id": "cbe4f737-13aa-48e9-a524-261047266dd1",
   "metadata": {},
   "outputs": [
    {
     "data": {
      "text/plain": [
       "25"
      ]
     },
     "execution_count": 13,
     "metadata": {},
     "output_type": "execute_result"
    }
   ],
   "source": [
    "# referencing the series 2 with the index only\n",
    "s[4]"
   ]
  },
  {
   "cell_type": "code",
   "execution_count": 16,
   "id": "3677323d-cb51-42d4-899d-7c2939dd82a5",
   "metadata": {},
   "outputs": [
    {
     "data": {
      "text/plain": [
       "b    22\n",
       "c    53\n",
       "d    34\n",
       "e    25\n",
       "dtype: int64"
      ]
     },
     "execution_count": 16,
     "metadata": {},
     "output_type": "execute_result"
    }
   ],
   "source": [
    "# get the range in the series using index\n",
    "s2[1:5]"
   ]
  },
  {
   "cell_type": "code",
   "execution_count": 17,
   "id": "8e99019f-accc-4e15-8269-1e19373ef6c8",
   "metadata": {},
   "outputs": [
    {
     "data": {
      "text/plain": [
       "b    22\n",
       "c    53\n",
       "d    34\n",
       "e    25\n",
       "f    16\n",
       "dtype: int64"
      ]
     },
     "execution_count": 17,
     "metadata": {},
     "output_type": "execute_result"
    }
   ],
   "source": [
    "# get the range in the series using labels\n",
    "s2['b':'f']"
   ]
  },
  {
   "cell_type": "code",
   "execution_count": 20,
   "id": "d3426355-e965-4ee0-9c4d-e1b8d8601da1",
   "metadata": {},
   "outputs": [
    {
     "data": {
      "text/plain": [
       "18.363636363636363"
      ]
     },
     "execution_count": 20,
     "metadata": {},
     "output_type": "execute_result"
    }
   ],
   "source": [
    "# get the mean of the series with labels \n",
    "s2.mean() "
   ]
  },
  {
   "cell_type": "code",
   "execution_count": null,
   "id": "f7ec6dcb-a347-4420-b90f-c59b2d137f9d",
   "metadata": {},
   "outputs": [],
   "source": []
  }
 ],
 "metadata": {
  "kernelspec": {
   "display_name": "Python 3 (ipykernel)",
   "language": "python",
   "name": "python3"
  },
  "language_info": {
   "codemirror_mode": {
    "name": "ipython",
    "version": 3
   },
   "file_extension": ".py",
   "mimetype": "text/x-python",
   "name": "python",
   "nbconvert_exporter": "python",
   "pygments_lexer": "ipython3",
   "version": "3.8.10"
  }
 },
 "nbformat": 4,
 "nbformat_minor": 5
}
