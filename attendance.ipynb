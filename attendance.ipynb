{
 "cells": [
  {
   "cell_type": "code",
   "execution_count": 1,
   "id": "c9bbf913-6493-4df3-8c45-492360fa86a6",
   "metadata": {},
   "outputs": [],
   "source": [
    "# navigating the attendance folder with all the files\n",
    "import numpy as np\n",
    "import pandas as pd\n",
    "import re\n",
    "import os\n",
    "            "
   ]
  },
  {
   "cell_type": "code",
   "execution_count": 20,
   "id": "3ddd14c6-8b79-4ad7-bf92-531c47a875e1",
   "metadata": {},
   "outputs": [
    {
     "name": "stdout",
     "output_type": "stream",
     "text": [
      "3\n",
      "4\n",
      "15\n",
      "2\n",
      "35\n",
      "37\n",
      "12\n",
      "30\n",
      "18\n",
      "17\n",
      "9\n",
      "40\n",
      "36\n",
      "6\n",
      "26\n",
      "1\n",
      "16\n",
      "13\n",
      "20\n",
      "8\n",
      "21\n",
      "33\n",
      "22\n",
      "10\n",
      "7\n",
      "38\n",
      "31\n",
      "32\n",
      "23\n",
      "5\n",
      "41\n",
      "39\n",
      "11\n",
      "19\n",
      "24\n",
      "34\n",
      "25\n",
      "27\n",
      "28\n",
      "29\n",
      "14\n"
     ]
    }
   ],
   "source": [
    "filepath = 'dataset/attendance'\n",
    "filenames = {}\n",
    "\n",
    "for fname in os.listdir(filepath):\n",
    "    fno = re.findall('-(.*?).txt', fname)[0]\n",
    "    print(fno)\n",
    "    filenames[fno] = fname\n",
    "    \n",
    "\n"
   ]
  },
  {
   "cell_type": "code",
   "execution_count": 22,
   "id": "40242b3d-2953-4c7b-a228-5325f995d094",
   "metadata": {},
   "outputs": [
    {
     "data": {
      "text/plain": [
       "[('1', 'DM_SE1_online-1.txt'),\n",
       " ('10', 'DM_SE1_online-10.txt'),\n",
       " ('11', 'DM_SE1_online-11.txt'),\n",
       " ('12', 'DM_SE1_online-12.txt'),\n",
       " ('13', 'DM_SE1_online-13.txt'),\n",
       " ('14', 'DM_SE1_online-14.txt'),\n",
       " ('15', 'DM_SE1_online-15.txt'),\n",
       " ('16', 'DM_SE1_online-16.txt'),\n",
       " ('17', 'DM_SE1_online-17.txt'),\n",
       " ('18', 'DM_SE1_online-18.txt'),\n",
       " ('19', 'DM_SE1_online-19.txt'),\n",
       " ('2', 'DM_SE1_online-2.txt'),\n",
       " ('20', 'DM_SE1_online-20.txt'),\n",
       " ('21', 'DM_SE1_online-21.txt'),\n",
       " ('22', 'DM_SE1_online-22.txt'),\n",
       " ('23', 'DM_SE1_online-23.txt'),\n",
       " ('24', 'DM_SE1_online-24.txt'),\n",
       " ('25', 'DM_SE1_online-25.txt'),\n",
       " ('26', 'DM_SE1_online-26.txt'),\n",
       " ('27', 'DM_SE1_online-27.txt'),\n",
       " ('28', 'DM_SE1_online-28.txt'),\n",
       " ('29', 'DM_SE1_online-29.txt'),\n",
       " ('3', 'DM_SE1_online-3.txt'),\n",
       " ('30', 'DM_SE1_online-30.txt'),\n",
       " ('31', 'DM_SE1_online-31.txt'),\n",
       " ('32', 'DM_SE1_online-32.txt'),\n",
       " ('33', 'DM_SE1_online-33.txt'),\n",
       " ('34', 'DM_SE1_online-34.txt'),\n",
       " ('35', 'DM_SE1_online-35.txt'),\n",
       " ('36', 'DM_SE1_online-36.txt'),\n",
       " ('37', 'DM_SE1_online-37.txt'),\n",
       " ('38', 'DM_SE1_online-38.txt'),\n",
       " ('39', 'DM_SE1_online-39.txt'),\n",
       " ('4', 'DM_SE1_online-4.txt'),\n",
       " ('40', 'DM_SE1_online-40.txt'),\n",
       " ('41', 'DM_SE1_online-41.txt'),\n",
       " ('5', 'DM_SE1_online-5.txt'),\n",
       " ('6', 'DM_SE1_online-6.txt'),\n",
       " ('7', 'DM_SE1_online-7.txt'),\n",
       " ('8', 'DM_SE1_online-8.txt'),\n",
       " ('9', 'DM_SE1_online-9.txt')]"
      ]
     },
     "execution_count": 22,
     "metadata": {},
     "output_type": "execute_result"
    }
   ],
   "source": [
    "filelist = list(filenames.items())\n",
    "filelist.sort()\n",
    "filelist # notice how it doesn't sort correclty,"
   ]
  },
  {
   "cell_type": "code",
   "execution_count": 26,
   "id": "7b4ff00e-6012-4b37-ab06-49b1309a896d",
   "metadata": {},
   "outputs": [
    {
     "data": {
      "text/plain": [
       "{1: 'DM_SE1_online-1.txt',\n",
       " 2: 'DM_SE1_online-2.txt',\n",
       " 3: 'DM_SE1_online-3.txt',\n",
       " 4: 'DM_SE1_online-4.txt',\n",
       " 5: 'DM_SE1_online-5.txt',\n",
       " 6: 'DM_SE1_online-6.txt',\n",
       " 7: 'DM_SE1_online-7.txt',\n",
       " 8: 'DM_SE1_online-8.txt',\n",
       " 9: 'DM_SE1_online-9.txt',\n",
       " 10: 'DM_SE1_online-10.txt',\n",
       " 11: 'DM_SE1_online-11.txt',\n",
       " 12: 'DM_SE1_online-12.txt',\n",
       " 13: 'DM_SE1_online-13.txt',\n",
       " 14: 'DM_SE1_online-14.txt',\n",
       " 15: 'DM_SE1_online-15.txt',\n",
       " 16: 'DM_SE1_online-16.txt',\n",
       " 17: 'DM_SE1_online-17.txt',\n",
       " 18: 'DM_SE1_online-18.txt',\n",
       " 19: 'DM_SE1_online-19.txt',\n",
       " 20: 'DM_SE1_online-20.txt',\n",
       " 21: 'DM_SE1_online-21.txt',\n",
       " 22: 'DM_SE1_online-22.txt',\n",
       " 23: 'DM_SE1_online-23.txt',\n",
       " 24: 'DM_SE1_online-24.txt',\n",
       " 25: 'DM_SE1_online-25.txt',\n",
       " 26: 'DM_SE1_online-26.txt',\n",
       " 27: 'DM_SE1_online-27.txt',\n",
       " 28: 'DM_SE1_online-28.txt',\n",
       " 29: 'DM_SE1_online-29.txt',\n",
       " 30: 'DM_SE1_online-30.txt',\n",
       " 31: 'DM_SE1_online-31.txt',\n",
       " 32: 'DM_SE1_online-32.txt',\n",
       " 33: 'DM_SE1_online-33.txt',\n",
       " 34: 'DM_SE1_online-34.txt',\n",
       " 35: 'DM_SE1_online-35.txt',\n",
       " 36: 'DM_SE1_online-36.txt',\n",
       " 37: 'DM_SE1_online-37.txt',\n",
       " 38: 'DM_SE1_online-38.txt',\n",
       " 39: 'DM_SE1_online-39.txt',\n",
       " 40: 'DM_SE1_online-40.txt',\n",
       " 41: 'DM_SE1_online-41.txt'}"
      ]
     },
     "execution_count": 26,
     "metadata": {},
     "output_type": "execute_result"
    }
   ],
   "source": [
    "filepath = 'dataset/attendance'\n",
    "filenames = {}\n",
    "\n",
    "for fname in os.listdir(filepath):\n",
    "    fno = re.findall('-(.*?).txt', fname)[0]\n",
    "    #print(fno)\n",
    "    filenames[int(fno)] = fname # we convert the index to an int, and this will sort correctly\n",
    "    \n",
    "filelist = list(filenames.items())\n",
    "filelist.sort()\n",
    "filenames = dict(filelist)\n",
    "filenames"
   ]
  },
  {
   "cell_type": "code",
   "execution_count": 37,
   "id": "747d87d0-9655-4e5e-92b4-e30323d45d3a",
   "metadata": {},
   "outputs": [
    {
     "name": "stdout",
     "output_type": "stream",
     "text": [
      "['205A031', '205A036', '205A086', '205A081', '205A058', '205A076', '205A028', '205A033', '205A063', '205A037', '205A067', '205A048', '205A056', '205A051', '205A038', '205A020', '205A032', '205A014', '205A025', '205A002', '205A016', '205A074', '205A047', '205A049', '205A075', '205A080', '205A013', '205A010', '205A068', '205A035', '205A084', '205A011', '205A041', '205A016', '205A069', '205A004', '205A024', '205A072', '205A082', '205A007', '205A034', '205A053', '205A059', '205A003', '205A066', '205A052', '205A072', '205A008', '205A005', '205A022', '205A023', '205A062', '205A015', '205A083', '205A083', '205A090', '205A045', '205A039', '205A018', '205A054', '205A057', '205A060', '205A061', '205A023', '205A070', '205A042', '205A006', '205A029', '205A025', '205A084']\n"
     ]
    }
   ],
   "source": [
    "# now lets analyze the data inside each file\n",
    "for fname in filenames.values():\n",
    "    with open(filepath + '/' + fname) as fobj:\n",
    "        data = fobj.read()\n",
    "        #print(data) # this will print out all the data in each file\n",
    "        \n",
    "        rollno_li = re.findall('(205A[0-9]*)', data) # this will extract just the 205Axxxx code names\n",
    "        \n",
    "        print(rollno_li)\n",
    "        break"
   ]
  },
  {
   "cell_type": "code",
   "execution_count": null,
   "id": "a49040f3-41d7-4ac3-962c-e34a9fa0565c",
   "metadata": {},
   "outputs": [],
   "source": []
  }
 ],
 "metadata": {
  "kernelspec": {
   "display_name": "Python 3 (ipykernel)",
   "language": "python",
   "name": "python3"
  },
  "language_info": {
   "codemirror_mode": {
    "name": "ipython",
    "version": 3
   },
   "file_extension": ".py",
   "mimetype": "text/x-python",
   "name": "python",
   "nbconvert_exporter": "python",
   "pygments_lexer": "ipython3",
   "version": "3.9.12"
  }
 },
 "nbformat": 4,
 "nbformat_minor": 5
}
