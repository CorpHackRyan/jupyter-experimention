{
 "cells": [
  {
   "cell_type": "code",
   "execution_count": 1,
   "id": "c95654cb-3b88-49ac-bb12-ffd5a50b11cd",
   "metadata": {},
   "outputs": [],
   "source": [
    "import numpy as np"
   ]
  },
  {
   "cell_type": "code",
   "execution_count": 2,
   "id": "9983335b-2ed5-4801-8d3b-7a8c994329a9",
   "metadata": {},
   "outputs": [],
   "source": [
    "data = np.loadtxt('dataset/populations.txt')\n",
    "year, hares, lynxes, carrots = data.T"
   ]
  },
  {
   "cell_type": "code",
   "execution_count": 10,
   "id": "cd23c129-6a92-400c-8d51-719a17fa7dcb",
   "metadata": {},
   "outputs": [],
   "source": [
    "# import matplotlib as plt"
   ]
  },
  {
   "cell_type": "code",
   "execution_count": 12,
   "id": "a9cb6ab2-a131-46ad-a68f-79668e618c0a",
   "metadata": {},
   "outputs": [],
   "source": [
    "salarydata = np.loadtxt('dataset/Salaries.csv', dtype=str, delimiter=',')"
   ]
  },
  {
   "cell_type": "code",
   "execution_count": 14,
   "id": "8d235d1c-caf5-4c2c-bf04-96758d9b52f5",
   "metadata": {},
   "outputs": [],
   "source": [
    "data2 = salarydata"
   ]
  },
  {
   "cell_type": "code",
   "execution_count": 15,
   "id": "e77da745-7d23-447d-92c0-327a449c2a40",
   "metadata": {},
   "outputs": [
    {
     "data": {
      "text/plain": [
       "array([['rank', 'discipline', 'phd', 'service', 'sex', 'salary'],\n",
       "       ['Prof', 'B', '56', '49', 'Male', '186960'],\n",
       "       ['Prof', 'A', '12', '6', 'Male', '93000'],\n",
       "       ['Prof', 'A', '23', '20', 'Male', '110515'],\n",
       "       ['Prof', 'A', '40', '31', 'Male', '131205'],\n",
       "       ['Prof', 'B', '20', '18', 'Male', '104800'],\n",
       "       ['Prof', 'A', '20', '20', 'Male', '122400'],\n",
       "       ['AssocProf', 'A', '20', '17', 'Male', '81285'],\n",
       "       ['Prof', 'A', '18', '18', 'Male', '126300'],\n",
       "       ['Prof', 'A', '29', '19', 'Male', '94350'],\n",
       "       ['Prof', 'A', '51', '51', 'Male', '57800'],\n",
       "       ['Prof', 'B', '39', '33', 'Male', '128250'],\n",
       "       ['Prof', 'B', '23', '23', 'Male', '134778'],\n",
       "       ['AsstProf', 'B', '1', '0', 'Male', '88000'],\n",
       "       ['Prof', 'B', '35', '33', 'Male', '162200'],\n",
       "       ['Prof', 'B', '25', '19', 'Male', '153750'],\n",
       "       ['Prof', 'B', '17', '3', 'Male', '150480'],\n",
       "       ['AsstProf', 'B', '8', '3', 'Male', '75044'],\n",
       "       ['AsstProf', 'B', '4', '0', 'Male', '92000'],\n",
       "       ['Prof', 'A', '19', '7', 'Male', '107300'],\n",
       "       ['Prof', 'A', '29', '27', 'Male', '150500'],\n",
       "       ['AsstProf', 'B', '4', '4', 'Male', '92000'],\n",
       "       ['Prof', 'A', '33', '30', 'Male', '103106'],\n",
       "       ['AsstProf', 'A', '4', '2', 'Male', '73000'],\n",
       "       ['AsstProf', 'A', '2', '0', 'Male', '85000'],\n",
       "       ['Prof', 'A', '30', '23', 'Male', '91100'],\n",
       "       ['Prof', 'B', '35', '31', 'Male', '99418'],\n",
       "       ['Prof', 'A', '38', '19', 'Male', '148750'],\n",
       "       ['Prof', 'A', '45', '43', 'Male', '155865'],\n",
       "       ['AsstProf', 'B', '7', '2', 'Male', '91300'],\n",
       "       ['Prof', 'B', '21', '20', 'Male', '123683'],\n",
       "       ['AssocProf', 'B', '9', '7', 'Male', '107008'],\n",
       "       ['Prof', 'B', '22', '21', 'Male', '155750'],\n",
       "       ['Prof', 'A', '27', '19', 'Male', '103275'],\n",
       "       ['Prof', 'B', '18', '18', 'Male', '120000'],\n",
       "       ['AssocProf', 'B', '12', '8', 'Male', '119800'],\n",
       "       ['Prof', 'B', '28', '23', 'Male', '126933'],\n",
       "       ['Prof', 'B', '45', '45', 'Male', '146856'],\n",
       "       ['Prof', 'A', '20', '8', 'Male', '102000'],\n",
       "       ['AsstProf', 'B', '4', '3', 'Male', '91000'],\n",
       "       ['Prof', 'B', '18', '18', 'Female', '129000'],\n",
       "       ['Prof', 'A', '39', '36', 'Female', '137000'],\n",
       "       ['AssocProf', 'A', '13', '8', 'Female', '74830'],\n",
       "       ['AsstProf', 'B', '4', '2', 'Female', '80225'],\n",
       "       ['AsstProf', 'B', '5', '0', 'Female', '77000'],\n",
       "       ['Prof', 'B', '23', '19', 'Female', '151768'],\n",
       "       ['Prof', 'B', '25', '25', 'Female', '140096'],\n",
       "       ['AsstProf', 'B', '11', '3', 'Female', '74692'],\n",
       "       ['AssocProf', 'B', '11', '11', 'Female', '103613'],\n",
       "       ['Prof', 'B', '17', '17', 'Female', '111512'],\n",
       "       ['Prof', 'B', '17', '18', 'Female', '122960'],\n",
       "       ['AsstProf', 'B', '10', '5', 'Female', '97032'],\n",
       "       ['Prof', 'B', '20', '14', 'Female', '127512'],\n",
       "       ['Prof', 'A', '12', '0', 'Female', '105000'],\n",
       "       ['AsstProf', 'A', '5', '3', 'Female', '73500'],\n",
       "       ['AssocProf', 'A', '25', '22', 'Female', '62884'],\n",
       "       ['AsstProf', 'A', '2', '0', 'Female', '72500'],\n",
       "       ['AssocProf', 'A', '10', '8', 'Female', '77500'],\n",
       "       ['AsstProf', 'A', '3', '1', 'Female', '72500'],\n",
       "       ['Prof', 'B', '36', '26', 'Female', '144651'],\n",
       "       ['AssocProf', 'B', '12', '10', 'Female', '103994'],\n",
       "       ['AsstProf', 'B', '3', '3', 'Female', '92000'],\n",
       "       ['AssocProf', 'B', '13', '10', 'Female', '103750'],\n",
       "       ['AssocProf', 'B', '14', '7', 'Female', '109650'],\n",
       "       ['Prof', 'A', '29', '27', 'Female', '91000'],\n",
       "       ['AssocProf', 'A', '26', '24', 'Female', '73300'],\n",
       "       ['Prof', 'A', '36', '19', 'Female', '117555'],\n",
       "       ['AsstProf', 'A', '7', '6', 'Female', '63100'],\n",
       "       ['Prof', 'A', '17', '11', 'Female', '90450'],\n",
       "       ['AsstProf', 'A', '4', '2', 'Female', '77500'],\n",
       "       ['Prof', 'A', '28', '7', 'Female', '116450'],\n",
       "       ['AsstProf', 'A', '8', '3', 'Female', '78500'],\n",
       "       ['AssocProf', 'B', '12', '9', 'Female', '71065'],\n",
       "       ['Prof', 'B', '24', '15', 'Female', '161101'],\n",
       "       ['Prof', 'B', '18', '10', 'Female', '105450'],\n",
       "       ['AssocProf', 'B', '19', '6', 'Female', '104542'],\n",
       "       ['Prof', 'B', '17', '17', 'Female', '124312'],\n",
       "       ['Prof', 'A', '28', '14', 'Female', '109954'],\n",
       "       ['Prof', 'A', '23', '15', 'Female', '109646']], dtype='<U10')"
      ]
     },
     "execution_count": 15,
     "metadata": {},
     "output_type": "execute_result"
    }
   ],
   "source": [
    "data2"
   ]
  },
  {
   "cell_type": "code",
   "execution_count": null,
   "id": "f59de7f0-cd44-4dfd-abfc-77900949f590",
   "metadata": {},
   "outputs": [],
   "source": []
  }
 ],
 "metadata": {
  "kernelspec": {
   "display_name": "Python 3 (ipykernel)",
   "language": "python",
   "name": "python3"
  },
  "language_info": {
   "codemirror_mode": {
    "name": "ipython",
    "version": 3
   },
   "file_extension": ".py",
   "mimetype": "text/x-python",
   "name": "python",
   "nbconvert_exporter": "python",
   "pygments_lexer": "ipython3",
   "version": "3.8.10"
  }
 },
 "nbformat": 4,
 "nbformat_minor": 5
}
