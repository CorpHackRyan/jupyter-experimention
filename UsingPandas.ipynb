{
 "cells": [
  {
   "cell_type": "code",
   "execution_count": 2,
   "id": "57eb6d9b-4eb2-43f7-a6e8-80c2c50682f8",
   "metadata": {},
   "outputs": [],
   "source": [
    "# Working with Pandas dataframes\n",
    "import pandas as pd"
   ]
  },
  {
   "cell_type": "code",
   "execution_count": 3,
   "id": "bc0f7f33-c4e1-4d38-890b-3750a5302066",
   "metadata": {},
   "outputs": [],
   "source": [
    "import numpy as np"
   ]
  },
  {
   "cell_type": "code",
   "execution_count": 4,
   "id": "e16e257b-071d-4a86-982f-bd14dc80f6c8",
   "metadata": {},
   "outputs": [],
   "source": [
    "li = [[100, \"ryan\", 100000.5],\n",
    "      [101, \"Mike\", 20000.5],\n",
    "      [102, 'Jonny', 25000.6]]\n",
    "arr2d = np.array(li)"
   ]
  },
  {
   "cell_type": "code",
   "execution_count": 5,
   "id": "98b7083a-3f20-46bf-8485-1c5c4382daea",
   "metadata": {},
   "outputs": [
    {
     "data": {
      "text/plain": [
       "array([['100', 'ryan', '100000.5'],\n",
       "       ['101', 'Mike', '20000.5'],\n",
       "       ['102', 'Jonny', '25000.6']], dtype='<U32')"
      ]
     },
     "execution_count": 5,
     "metadata": {},
     "output_type": "execute_result"
    }
   ],
   "source": [
    "arr2d"
   ]
  },
  {
   "cell_type": "code",
   "execution_count": 6,
   "id": "72eb8f22-07e4-4cff-8e5a-26c037abb9bd",
   "metadata": {},
   "outputs": [
    {
     "name": "stdout",
     "output_type": "stream",
     "text": [
      "['100' '101' '102']\n"
     ]
    }
   ],
   "source": [
    "print(arr2d[:,0])"
   ]
  },
  {
   "cell_type": "code",
   "execution_count": 6,
   "id": "f236423a-95b2-4f6d-96c0-a1c760607101",
   "metadata": {},
   "outputs": [
    {
     "name": "stdout",
     "output_type": "stream",
     "text": [
      "['ryan' 'Mike' 'Jonny']\n"
     ]
    }
   ],
   "source": [
    "print(arr2d[:,1])"
   ]
  },
  {
   "cell_type": "code",
   "execution_count": 7,
   "id": "e54759c9-ceea-410d-8542-e8980e394f3b",
   "metadata": {},
   "outputs": [
    {
     "name": "stdout",
     "output_type": "stream",
     "text": [
      "['100000.5' '20000.5' '25000.6']\n"
     ]
    }
   ],
   "source": [
    "print(arr2d[:,2])"
   ]
  },
  {
   "cell_type": "code",
   "execution_count": 7,
   "id": "04fc7c75-8c42-4c5c-9ced-535c1425c73b",
   "metadata": {},
   "outputs": [],
   "source": [
    "#  Now lets convert this list to a data frame instead of an array\n",
    "df = pd.DataFrame(li)"
   ]
  },
  {
   "cell_type": "code",
   "execution_count": 8,
   "id": "be3008fe-c065-4b4b-8172-f5d220016bb3",
   "metadata": {},
   "outputs": [
    {
     "data": {
      "text/html": [
       "<div>\n",
       "<style scoped>\n",
       "    .dataframe tbody tr th:only-of-type {\n",
       "        vertical-align: middle;\n",
       "    }\n",
       "\n",
       "    .dataframe tbody tr th {\n",
       "        vertical-align: top;\n",
       "    }\n",
       "\n",
       "    .dataframe thead th {\n",
       "        text-align: right;\n",
       "    }\n",
       "</style>\n",
       "<table border=\"1\" class=\"dataframe\">\n",
       "  <thead>\n",
       "    <tr style=\"text-align: right;\">\n",
       "      <th></th>\n",
       "      <th>0</th>\n",
       "      <th>1</th>\n",
       "      <th>2</th>\n",
       "    </tr>\n",
       "  </thead>\n",
       "  <tbody>\n",
       "    <tr>\n",
       "      <th>0</th>\n",
       "      <td>100</td>\n",
       "      <td>ryan</td>\n",
       "      <td>100000.5</td>\n",
       "    </tr>\n",
       "    <tr>\n",
       "      <th>1</th>\n",
       "      <td>101</td>\n",
       "      <td>Mike</td>\n",
       "      <td>20000.5</td>\n",
       "    </tr>\n",
       "    <tr>\n",
       "      <th>2</th>\n",
       "      <td>102</td>\n",
       "      <td>Jonny</td>\n",
       "      <td>25000.6</td>\n",
       "    </tr>\n",
       "  </tbody>\n",
       "</table>\n",
       "</div>"
      ],
      "text/plain": [
       "     0      1         2\n",
       "0  100   ryan  100000.5\n",
       "1  101   Mike   20000.5\n",
       "2  102  Jonny   25000.6"
      ]
     },
     "execution_count": 8,
     "metadata": {},
     "output_type": "execute_result"
    }
   ],
   "source": [
    "df"
   ]
  },
  {
   "cell_type": "code",
   "execution_count": 14,
   "id": "c180c3e3-2556-4935-b11f-1f9c1e32758a",
   "metadata": {},
   "outputs": [],
   "source": [
    "# change the column names\n",
    "df = pd.DataFrame(li, columns=['emp_no', 'name', 'salary'])"
   ]
  },
  {
   "cell_type": "code",
   "execution_count": 13,
   "id": "2b28f877-e0a4-4a0e-a3ee-aa417ac13f73",
   "metadata": {},
   "outputs": [
    {
     "data": {
      "text/html": [
       "<div>\n",
       "<style scoped>\n",
       "    .dataframe tbody tr th:only-of-type {\n",
       "        vertical-align: middle;\n",
       "    }\n",
       "\n",
       "    .dataframe tbody tr th {\n",
       "        vertical-align: top;\n",
       "    }\n",
       "\n",
       "    .dataframe thead th {\n",
       "        text-align: right;\n",
       "    }\n",
       "</style>\n",
       "<table border=\"1\" class=\"dataframe\">\n",
       "  <thead>\n",
       "    <tr style=\"text-align: right;\">\n",
       "      <th></th>\n",
       "      <th>emp_no</th>\n",
       "      <th>name</th>\n",
       "      <th>salary</th>\n",
       "    </tr>\n",
       "  </thead>\n",
       "  <tbody>\n",
       "    <tr>\n",
       "      <th>0</th>\n",
       "      <td>100</td>\n",
       "      <td>ryan</td>\n",
       "      <td>100000.5</td>\n",
       "    </tr>\n",
       "    <tr>\n",
       "      <th>1</th>\n",
       "      <td>101</td>\n",
       "      <td>Mike</td>\n",
       "      <td>20000.5</td>\n",
       "    </tr>\n",
       "    <tr>\n",
       "      <th>2</th>\n",
       "      <td>102</td>\n",
       "      <td>Jonny</td>\n",
       "      <td>25000.6</td>\n",
       "    </tr>\n",
       "  </tbody>\n",
       "</table>\n",
       "</div>"
      ],
      "text/plain": [
       "   emp_no   name    salary\n",
       "0     100   ryan  100000.5\n",
       "1     101   Mike   20000.5\n",
       "2     102  Jonny   25000.6"
      ]
     },
     "execution_count": 13,
     "metadata": {},
     "output_type": "execute_result"
    }
   ],
   "source": [
    "df"
   ]
  },
  {
   "cell_type": "code",
   "execution_count": 10,
   "id": "d3052027-3bf4-464f-b766-5ea05e1b4133",
   "metadata": {},
   "outputs": [],
   "source": [
    "# change the row names\n",
    "df = pd.DataFrame(li, index=['row1', 'row2', 'row3'])"
   ]
  },
  {
   "cell_type": "code",
   "execution_count": 12,
   "id": "4ff3f36a-915e-487c-b752-6fb8df83a07b",
   "metadata": {},
   "outputs": [
    {
     "data": {
      "text/html": [
       "<div>\n",
       "<style scoped>\n",
       "    .dataframe tbody tr th:only-of-type {\n",
       "        vertical-align: middle;\n",
       "    }\n",
       "\n",
       "    .dataframe tbody tr th {\n",
       "        vertical-align: top;\n",
       "    }\n",
       "\n",
       "    .dataframe thead th {\n",
       "        text-align: right;\n",
       "    }\n",
       "</style>\n",
       "<table border=\"1\" class=\"dataframe\">\n",
       "  <thead>\n",
       "    <tr style=\"text-align: right;\">\n",
       "      <th></th>\n",
       "      <th>0</th>\n",
       "      <th>1</th>\n",
       "      <th>2</th>\n",
       "    </tr>\n",
       "  </thead>\n",
       "  <tbody>\n",
       "    <tr>\n",
       "      <th>row1</th>\n",
       "      <td>100</td>\n",
       "      <td>ryan</td>\n",
       "      <td>100000.5</td>\n",
       "    </tr>\n",
       "    <tr>\n",
       "      <th>row2</th>\n",
       "      <td>101</td>\n",
       "      <td>Mike</td>\n",
       "      <td>20000.5</td>\n",
       "    </tr>\n",
       "    <tr>\n",
       "      <th>row3</th>\n",
       "      <td>102</td>\n",
       "      <td>Jonny</td>\n",
       "      <td>25000.6</td>\n",
       "    </tr>\n",
       "  </tbody>\n",
       "</table>\n",
       "</div>"
      ],
      "text/plain": [
       "        0      1         2\n",
       "row1  100   ryan  100000.5\n",
       "row2  101   Mike   20000.5\n",
       "row3  102  Jonny   25000.6"
      ]
     },
     "execution_count": 12,
     "metadata": {},
     "output_type": "execute_result"
    }
   ],
   "source": [
    "df"
   ]
  },
  {
   "cell_type": "code",
   "execution_count": 15,
   "id": "912b62e3-88e9-4aef-8121-8ea18fe87fd5",
   "metadata": {},
   "outputs": [
    {
     "data": {
      "text/plain": [
       "0    100\n",
       "1    101\n",
       "2    102\n",
       "Name: emp_no, dtype: int64"
      ]
     },
     "execution_count": 15,
     "metadata": {},
     "output_type": "execute_result"
    }
   ],
   "source": [
    "# Slice a specific column from the dataframe\n",
    "df.emp_no"
   ]
  },
  {
   "cell_type": "code",
   "execution_count": 16,
   "id": "1e3891bd-f800-47e6-9312-5034587d01e9",
   "metadata": {},
   "outputs": [
    {
     "data": {
      "text/plain": [
       "0    100\n",
       "1    101\n",
       "2    102\n",
       "Name: emp_no, dtype: int64"
      ]
     },
     "execution_count": 16,
     "metadata": {},
     "output_type": "execute_result"
    }
   ],
   "source": [
    "# or alternatively, do it this way\n",
    "df['emp_no']"
   ]
  },
  {
   "cell_type": "code",
   "execution_count": 17,
   "id": "0960d008-0471-40c5-9450-3624c9d6e226",
   "metadata": {},
   "outputs": [],
   "source": [
    "# assign data frame column slice to a variable\n",
    "emp_no = df['emp_no']"
   ]
  },
  {
   "cell_type": "code",
   "execution_count": 18,
   "id": "7b1cd520-244d-4c1c-a5cf-44b43e04aac0",
   "metadata": {},
   "outputs": [
    {
     "data": {
      "text/plain": [
       "0    100\n",
       "1    101\n",
       "2    102\n",
       "Name: emp_no, dtype: int64"
      ]
     },
     "execution_count": 18,
     "metadata": {},
     "output_type": "execute_result"
    }
   ],
   "source": [
    "emp_no"
   ]
  },
  {
   "cell_type": "code",
   "execution_count": 19,
   "id": "3d95d578-c2d5-4338-9c1c-14765d343098",
   "metadata": {},
   "outputs": [
    {
     "data": {
      "text/plain": [
       "pandas.core.series.Series"
      ]
     },
     "execution_count": 19,
     "metadata": {},
     "output_type": "execute_result"
    }
   ],
   "source": [
    "# check datatype of data frame\n",
    "type(emp_no)"
   ]
  },
  {
   "cell_type": "code",
   "execution_count": 20,
   "id": "0831f408-e1ba-4ca9-8770-749358667b60",
   "metadata": {},
   "outputs": [
    {
     "data": {
      "text/plain": [
       "dtype('int64')"
      ]
     },
     "execution_count": 20,
     "metadata": {},
     "output_type": "execute_result"
    }
   ],
   "source": [
    "# check data type \n",
    "# O means string in pandas when you ask for data type\n",
    "df.emp_no.dtype"
   ]
  },
  {
   "cell_type": "code",
   "execution_count": 26,
   "id": "a1fff5e1-18d1-4dd9-9aa6-08240bd0d9d5",
   "metadata": {},
   "outputs": [],
   "source": [
    "# Using Dictionary \n",
    "dic = {'emp_no':[100,101,102], 'emp_name':['Ryan', 'Mike', 'Johnny'], 'emp_sal':[1000.5, 2000.5, 30000.6]}\n",
    "       "
   ]
  },
  {
   "cell_type": "code",
   "execution_count": 28,
   "id": "5ea38b32-963d-49e3-9166-5f82e14d9947",
   "metadata": {},
   "outputs": [
    {
     "data": {
      "text/plain": [
       "{'emp_no': [100, 101, 102],\n",
       " 'emp_name': ['Ryan', 'Mike', 'Johnny'],\n",
       " 'emp_sal': [1000.5, 2000.5, 30000.6]}"
      ]
     },
     "execution_count": 28,
     "metadata": {},
     "output_type": "execute_result"
    }
   ],
   "source": [
    "dic"
   ]
  },
  {
   "cell_type": "code",
   "execution_count": 29,
   "id": "032c4ab4-a1b1-4ee6-87c6-db4f9807c9cc",
   "metadata": {},
   "outputs": [],
   "source": [
    "df = pd.DataFrame(dic)"
   ]
  },
  {
   "cell_type": "code",
   "execution_count": 30,
   "id": "cc546874-b37f-4f00-9ab9-b7125345dadb",
   "metadata": {},
   "outputs": [
    {
     "data": {
      "text/html": [
       "<div>\n",
       "<style scoped>\n",
       "    .dataframe tbody tr th:only-of-type {\n",
       "        vertical-align: middle;\n",
       "    }\n",
       "\n",
       "    .dataframe tbody tr th {\n",
       "        vertical-align: top;\n",
       "    }\n",
       "\n",
       "    .dataframe thead th {\n",
       "        text-align: right;\n",
       "    }\n",
       "</style>\n",
       "<table border=\"1\" class=\"dataframe\">\n",
       "  <thead>\n",
       "    <tr style=\"text-align: right;\">\n",
       "      <th></th>\n",
       "      <th>emp_no</th>\n",
       "      <th>emp_name</th>\n",
       "      <th>emp_sal</th>\n",
       "    </tr>\n",
       "  </thead>\n",
       "  <tbody>\n",
       "    <tr>\n",
       "      <th>0</th>\n",
       "      <td>100</td>\n",
       "      <td>Ryan</td>\n",
       "      <td>1000.5</td>\n",
       "    </tr>\n",
       "    <tr>\n",
       "      <th>1</th>\n",
       "      <td>101</td>\n",
       "      <td>Mike</td>\n",
       "      <td>2000.5</td>\n",
       "    </tr>\n",
       "    <tr>\n",
       "      <th>2</th>\n",
       "      <td>102</td>\n",
       "      <td>Johnny</td>\n",
       "      <td>30000.6</td>\n",
       "    </tr>\n",
       "  </tbody>\n",
       "</table>\n",
       "</div>"
      ],
      "text/plain": [
       "   emp_no emp_name  emp_sal\n",
       "0     100     Ryan   1000.5\n",
       "1     101     Mike   2000.5\n",
       "2     102   Johnny  30000.6"
      ]
     },
     "execution_count": 30,
     "metadata": {},
     "output_type": "execute_result"
    }
   ],
   "source": [
    "df"
   ]
  },
  {
   "cell_type": "code",
   "execution_count": 31,
   "id": "668bcce5-5b9a-4e22-b728-af0f21b1d073",
   "metadata": {},
   "outputs": [],
   "source": [
    "# Creating data frames from a file\n",
    "# ====> From clip board first"
   ]
  },
  {
   "cell_type": "code",
   "execution_count": 38,
   "id": "4ab1ff49-7194-4c42-8be8-b212c30ad054",
   "metadata": {},
   "outputs": [],
   "source": [
    "df = pd.read_clipboard()"
   ]
  },
  {
   "cell_type": "code",
   "execution_count": 39,
   "id": "95c9177b-adc5-4db7-a5fa-fbba9f6f956b",
   "metadata": {},
   "outputs": [
    {
     "data": {
      "text/html": [
       "<div>\n",
       "<style scoped>\n",
       "    .dataframe tbody tr th:only-of-type {\n",
       "        vertical-align: middle;\n",
       "    }\n",
       "\n",
       "    .dataframe tbody tr th {\n",
       "        vertical-align: top;\n",
       "    }\n",
       "\n",
       "    .dataframe thead th {\n",
       "        text-align: right;\n",
       "    }\n",
       "</style>\n",
       "<table border=\"1\" class=\"dataframe\">\n",
       "  <thead>\n",
       "    <tr style=\"text-align: right;\">\n",
       "      <th></th>\n",
       "      <th>Sepal.Length</th>\n",
       "      <th>Sepal.Width</th>\n",
       "      <th>Petal.Length</th>\n",
       "      <th>Petal.Width</th>\n",
       "      <th>Species</th>\n",
       "    </tr>\n",
       "  </thead>\n",
       "  <tbody>\n",
       "    <tr>\n",
       "      <th>1</th>\n",
       "      <td>5.1</td>\n",
       "      <td>3.5</td>\n",
       "      <td>1.4</td>\n",
       "      <td>0.2</td>\n",
       "      <td>setosa</td>\n",
       "    </tr>\n",
       "    <tr>\n",
       "      <th>2</th>\n",
       "      <td>4.9</td>\n",
       "      <td>3.0</td>\n",
       "      <td>1.4</td>\n",
       "      <td>0.2</td>\n",
       "      <td>setosa</td>\n",
       "    </tr>\n",
       "    <tr>\n",
       "      <th>3</th>\n",
       "      <td>4.7</td>\n",
       "      <td>3.2</td>\n",
       "      <td>1.3</td>\n",
       "      <td>0.2</td>\n",
       "      <td>setosa</td>\n",
       "    </tr>\n",
       "    <tr>\n",
       "      <th>4</th>\n",
       "      <td>4.6</td>\n",
       "      <td>3.1</td>\n",
       "      <td>1.5</td>\n",
       "      <td>0.2</td>\n",
       "      <td>setosa</td>\n",
       "    </tr>\n",
       "    <tr>\n",
       "      <th>5</th>\n",
       "      <td>5.0</td>\n",
       "      <td>3.6</td>\n",
       "      <td>1.4</td>\n",
       "      <td>0.2</td>\n",
       "      <td>setosa</td>\n",
       "    </tr>\n",
       "    <tr>\n",
       "      <th>6</th>\n",
       "      <td>5.4</td>\n",
       "      <td>3.9</td>\n",
       "      <td>1.7</td>\n",
       "      <td>0.4</td>\n",
       "      <td>setosa</td>\n",
       "    </tr>\n",
       "    <tr>\n",
       "      <th>7</th>\n",
       "      <td>4.6</td>\n",
       "      <td>3.4</td>\n",
       "      <td>1.4</td>\n",
       "      <td>0.3</td>\n",
       "      <td>setosa</td>\n",
       "    </tr>\n",
       "    <tr>\n",
       "      <th>8</th>\n",
       "      <td>5.0</td>\n",
       "      <td>3.4</td>\n",
       "      <td>1.5</td>\n",
       "      <td>0.2</td>\n",
       "      <td>setosa</td>\n",
       "    </tr>\n",
       "    <tr>\n",
       "      <th>9</th>\n",
       "      <td>4.4</td>\n",
       "      <td>2.9</td>\n",
       "      <td>1.4</td>\n",
       "      <td>0.2</td>\n",
       "      <td>setosa</td>\n",
       "    </tr>\n",
       "    <tr>\n",
       "      <th>10</th>\n",
       "      <td>4.9</td>\n",
       "      <td>3.1</td>\n",
       "      <td>1.5</td>\n",
       "      <td>0.1</td>\n",
       "      <td>setosa</td>\n",
       "    </tr>\n",
       "    <tr>\n",
       "      <th>11</th>\n",
       "      <td>5.4</td>\n",
       "      <td>3.7</td>\n",
       "      <td>1.5</td>\n",
       "      <td>0.2</td>\n",
       "      <td>setosa</td>\n",
       "    </tr>\n",
       "  </tbody>\n",
       "</table>\n",
       "</div>"
      ],
      "text/plain": [
       "    Sepal.Length  Sepal.Width  Petal.Length  Petal.Width Species\n",
       "1            5.1          3.5           1.4          0.2  setosa\n",
       "2            4.9          3.0           1.4          0.2  setosa\n",
       "3            4.7          3.2           1.3          0.2  setosa\n",
       "4            4.6          3.1           1.5          0.2  setosa\n",
       "5            5.0          3.6           1.4          0.2  setosa\n",
       "6            5.4          3.9           1.7          0.4  setosa\n",
       "7            4.6          3.4           1.4          0.3  setosa\n",
       "8            5.0          3.4           1.5          0.2  setosa\n",
       "9            4.4          2.9           1.4          0.2  setosa\n",
       "10           4.9          3.1           1.5          0.1  setosa\n",
       "11           5.4          3.7           1.5          0.2  setosa"
      ]
     },
     "execution_count": 39,
     "metadata": {},
     "output_type": "execute_result"
    }
   ],
   "source": [
    "df"
   ]
  },
  {
   "cell_type": "code",
   "execution_count": 22,
   "id": "9e21ea6c-4a29-4c2f-9aa5-b367a16c696f",
   "metadata": {},
   "outputs": [],
   "source": [
    "# Creating data frames from a CSV file\n",
    "df = pd.read_csv('dataset/iris.csv')"
   ]
  },
  {
   "cell_type": "code",
   "execution_count": 42,
   "id": "e7e40b1e-0640-4b18-96e5-2089bd8d4c17",
   "metadata": {},
   "outputs": [
    {
     "data": {
      "text/html": [
       "<div>\n",
       "<style scoped>\n",
       "    .dataframe tbody tr th:only-of-type {\n",
       "        vertical-align: middle;\n",
       "    }\n",
       "\n",
       "    .dataframe tbody tr th {\n",
       "        vertical-align: top;\n",
       "    }\n",
       "\n",
       "    .dataframe thead th {\n",
       "        text-align: right;\n",
       "    }\n",
       "</style>\n",
       "<table border=\"1\" class=\"dataframe\">\n",
       "  <thead>\n",
       "    <tr style=\"text-align: right;\">\n",
       "      <th></th>\n",
       "      <th>Unnamed: 0</th>\n",
       "      <th>Sepal.Length</th>\n",
       "      <th>Sepal.Width</th>\n",
       "      <th>Petal.Length</th>\n",
       "      <th>Petal.Width</th>\n",
       "      <th>Species</th>\n",
       "    </tr>\n",
       "  </thead>\n",
       "  <tbody>\n",
       "    <tr>\n",
       "      <th>0</th>\n",
       "      <td>1</td>\n",
       "      <td>5.1</td>\n",
       "      <td>3.5</td>\n",
       "      <td>1.4</td>\n",
       "      <td>0.2</td>\n",
       "      <td>setosa</td>\n",
       "    </tr>\n",
       "    <tr>\n",
       "      <th>1</th>\n",
       "      <td>2</td>\n",
       "      <td>4.9</td>\n",
       "      <td>3.0</td>\n",
       "      <td>1.4</td>\n",
       "      <td>0.2</td>\n",
       "      <td>setosa</td>\n",
       "    </tr>\n",
       "    <tr>\n",
       "      <th>2</th>\n",
       "      <td>3</td>\n",
       "      <td>4.7</td>\n",
       "      <td>3.2</td>\n",
       "      <td>1.3</td>\n",
       "      <td>0.2</td>\n",
       "      <td>setosa</td>\n",
       "    </tr>\n",
       "    <tr>\n",
       "      <th>3</th>\n",
       "      <td>4</td>\n",
       "      <td>4.6</td>\n",
       "      <td>3.1</td>\n",
       "      <td>1.5</td>\n",
       "      <td>0.2</td>\n",
       "      <td>setosa</td>\n",
       "    </tr>\n",
       "    <tr>\n",
       "      <th>4</th>\n",
       "      <td>5</td>\n",
       "      <td>5.0</td>\n",
       "      <td>3.6</td>\n",
       "      <td>1.4</td>\n",
       "      <td>0.2</td>\n",
       "      <td>setosa</td>\n",
       "    </tr>\n",
       "    <tr>\n",
       "      <th>...</th>\n",
       "      <td>...</td>\n",
       "      <td>...</td>\n",
       "      <td>...</td>\n",
       "      <td>...</td>\n",
       "      <td>...</td>\n",
       "      <td>...</td>\n",
       "    </tr>\n",
       "    <tr>\n",
       "      <th>145</th>\n",
       "      <td>146</td>\n",
       "      <td>6.7</td>\n",
       "      <td>3.0</td>\n",
       "      <td>5.2</td>\n",
       "      <td>2.3</td>\n",
       "      <td>virginica</td>\n",
       "    </tr>\n",
       "    <tr>\n",
       "      <th>146</th>\n",
       "      <td>147</td>\n",
       "      <td>6.3</td>\n",
       "      <td>2.5</td>\n",
       "      <td>5.0</td>\n",
       "      <td>1.9</td>\n",
       "      <td>virginica</td>\n",
       "    </tr>\n",
       "    <tr>\n",
       "      <th>147</th>\n",
       "      <td>148</td>\n",
       "      <td>6.5</td>\n",
       "      <td>3.0</td>\n",
       "      <td>5.2</td>\n",
       "      <td>2.0</td>\n",
       "      <td>virginica</td>\n",
       "    </tr>\n",
       "    <tr>\n",
       "      <th>148</th>\n",
       "      <td>149</td>\n",
       "      <td>6.2</td>\n",
       "      <td>3.4</td>\n",
       "      <td>5.4</td>\n",
       "      <td>2.3</td>\n",
       "      <td>virginica</td>\n",
       "    </tr>\n",
       "    <tr>\n",
       "      <th>149</th>\n",
       "      <td>150</td>\n",
       "      <td>5.9</td>\n",
       "      <td>3.0</td>\n",
       "      <td>5.1</td>\n",
       "      <td>1.8</td>\n",
       "      <td>virginica</td>\n",
       "    </tr>\n",
       "  </tbody>\n",
       "</table>\n",
       "<p>150 rows × 6 columns</p>\n",
       "</div>"
      ],
      "text/plain": [
       "     Unnamed: 0  Sepal.Length  Sepal.Width  Petal.Length  Petal.Width  \\\n",
       "0             1           5.1          3.5           1.4          0.2   \n",
       "1             2           4.9          3.0           1.4          0.2   \n",
       "2             3           4.7          3.2           1.3          0.2   \n",
       "3             4           4.6          3.1           1.5          0.2   \n",
       "4             5           5.0          3.6           1.4          0.2   \n",
       "..          ...           ...          ...           ...          ...   \n",
       "145         146           6.7          3.0           5.2          2.3   \n",
       "146         147           6.3          2.5           5.0          1.9   \n",
       "147         148           6.5          3.0           5.2          2.0   \n",
       "148         149           6.2          3.4           5.4          2.3   \n",
       "149         150           5.9          3.0           5.1          1.8   \n",
       "\n",
       "       Species  \n",
       "0       setosa  \n",
       "1       setosa  \n",
       "2       setosa  \n",
       "3       setosa  \n",
       "4       setosa  \n",
       "..         ...  \n",
       "145  virginica  \n",
       "146  virginica  \n",
       "147  virginica  \n",
       "148  virginica  \n",
       "149  virginica  \n",
       "\n",
       "[150 rows x 6 columns]"
      ]
     },
     "execution_count": 42,
     "metadata": {},
     "output_type": "execute_result"
    }
   ],
   "source": [
    "df"
   ]
  },
  {
   "cell_type": "code",
   "execution_count": 46,
   "id": "b76477ba-c08d-4976-9a66-23fe2f030039",
   "metadata": {},
   "outputs": [
    {
     "name": "stdout",
     "output_type": "stream",
     "text": [
      "Collecting lxml\n",
      "  Downloading lxml-4.9.0-cp38-cp38-manylinux_2_17_x86_64.manylinux2014_x86_64.manylinux_2_24_x86_64.whl (6.9 MB)\n",
      "\u001b[K     |████████████████████████████████| 6.9 MB 5.1 MB/s eta 0:00:01\n",
      "\u001b[?25hInstalling collected packages: lxml\n",
      "Successfully installed lxml-4.9.0\n",
      "Note: you may need to restart the kernel to use updated packages.\n"
     ]
    }
   ],
   "source": [
    "pip install lxml"
   ]
  },
  {
   "cell_type": "code",
   "execution_count": 16,
   "id": "6c652aad-1f0b-4a5b-8eb4-8ca6f681fb5e",
   "metadata": {},
   "outputs": [],
   "source": [
    "df = pd.read_html('dataset/index.html')"
   ]
  },
  {
   "cell_type": "code",
   "execution_count": 17,
   "id": "ccc12550-7205-47d3-8061-c29b3ad81efa",
   "metadata": {},
   "outputs": [
    {
     "data": {
      "text/plain": [
       "[   Rank                Name Total LBS Lost Total % Lost\n",
       " 0     1        Mike Botelho           29.8       11.71%\n",
       " 1     2      Paul Hutchison           24.5        9.88%\n",
       " 2     3       Greg Wallerus           14.4        7.00%\n",
       " 3     4     Frank Venturini           12.0        5.79%\n",
       " 4     5  Christian Granados           10.3        4.70%\n",
       " 5     6          Hugo Silva            3.4        1.74%\n",
       " 6     7       Rob Simonetti            2.0        0.97%\n",
       " 7     8       Ryan O'Connor          (3.0)      (1.54)%]"
      ]
     },
     "execution_count": 17,
     "metadata": {},
     "output_type": "execute_result"
    }
   ],
   "source": [
    "df"
   ]
  },
  {
   "cell_type": "code",
   "execution_count": 20,
   "id": "41a69cbf-c4cc-4cdc-9213-52231f693492",
   "metadata": {},
   "outputs": [
    {
     "data": {
      "text/html": [
       "<div>\n",
       "<style scoped>\n",
       "    .dataframe tbody tr th:only-of-type {\n",
       "        vertical-align: middle;\n",
       "    }\n",
       "\n",
       "    .dataframe tbody tr th {\n",
       "        vertical-align: top;\n",
       "    }\n",
       "\n",
       "    .dataframe thead th {\n",
       "        text-align: right;\n",
       "    }\n",
       "</style>\n",
       "<table border=\"1\" class=\"dataframe\">\n",
       "  <thead>\n",
       "    <tr style=\"text-align: right;\">\n",
       "      <th></th>\n",
       "      <th>Rank</th>\n",
       "      <th>Name</th>\n",
       "      <th>Total LBS Lost</th>\n",
       "      <th>Total % Lost</th>\n",
       "    </tr>\n",
       "  </thead>\n",
       "  <tbody>\n",
       "    <tr>\n",
       "      <th>0</th>\n",
       "      <td>1</td>\n",
       "      <td>Mike Botelho</td>\n",
       "      <td>29.8</td>\n",
       "      <td>11.71%</td>\n",
       "    </tr>\n",
       "    <tr>\n",
       "      <th>1</th>\n",
       "      <td>2</td>\n",
       "      <td>Paul Hutchison</td>\n",
       "      <td>24.5</td>\n",
       "      <td>9.88%</td>\n",
       "    </tr>\n",
       "    <tr>\n",
       "      <th>2</th>\n",
       "      <td>3</td>\n",
       "      <td>Greg Wallerus</td>\n",
       "      <td>14.4</td>\n",
       "      <td>7.00%</td>\n",
       "    </tr>\n",
       "    <tr>\n",
       "      <th>3</th>\n",
       "      <td>4</td>\n",
       "      <td>Frank Venturini</td>\n",
       "      <td>12.0</td>\n",
       "      <td>5.79%</td>\n",
       "    </tr>\n",
       "    <tr>\n",
       "      <th>4</th>\n",
       "      <td>5</td>\n",
       "      <td>Christian Granados</td>\n",
       "      <td>10.3</td>\n",
       "      <td>4.70%</td>\n",
       "    </tr>\n",
       "    <tr>\n",
       "      <th>5</th>\n",
       "      <td>6</td>\n",
       "      <td>Hugo Silva</td>\n",
       "      <td>3.4</td>\n",
       "      <td>1.74%</td>\n",
       "    </tr>\n",
       "    <tr>\n",
       "      <th>6</th>\n",
       "      <td>7</td>\n",
       "      <td>Rob Simonetti</td>\n",
       "      <td>2.0</td>\n",
       "      <td>0.97%</td>\n",
       "    </tr>\n",
       "    <tr>\n",
       "      <th>7</th>\n",
       "      <td>8</td>\n",
       "      <td>Ryan O'Connor</td>\n",
       "      <td>(3.0)</td>\n",
       "      <td>(1.54)%</td>\n",
       "    </tr>\n",
       "  </tbody>\n",
       "</table>\n",
       "</div>"
      ],
      "text/plain": [
       "   Rank                Name Total LBS Lost Total % Lost\n",
       "0     1        Mike Botelho           29.8       11.71%\n",
       "1     2      Paul Hutchison           24.5        9.88%\n",
       "2     3       Greg Wallerus           14.4        7.00%\n",
       "3     4     Frank Venturini           12.0        5.79%\n",
       "4     5  Christian Granados           10.3        4.70%\n",
       "5     6          Hugo Silva            3.4        1.74%\n",
       "6     7       Rob Simonetti            2.0        0.97%\n",
       "7     8       Ryan O'Connor          (3.0)      (1.54)%"
      ]
     },
     "execution_count": 20,
     "metadata": {},
     "output_type": "execute_result"
    }
   ],
   "source": [
    "df[0]\n"
   ]
  },
  {
   "cell_type": "code",
   "execution_count": 34,
   "id": "8681b7e0-5fee-4d79-84fc-cb23b7c1451a",
   "metadata": {},
   "outputs": [
    {
     "data": {
      "text/html": [
       "<div>\n",
       "<style scoped>\n",
       "    .dataframe tbody tr th:only-of-type {\n",
       "        vertical-align: middle;\n",
       "    }\n",
       "\n",
       "    .dataframe tbody tr th {\n",
       "        vertical-align: top;\n",
       "    }\n",
       "\n",
       "    .dataframe thead th {\n",
       "        text-align: right;\n",
       "    }\n",
       "</style>\n",
       "<table border=\"1\" class=\"dataframe\">\n",
       "  <thead>\n",
       "    <tr style=\"text-align: right;\">\n",
       "      <th></th>\n",
       "      <th>Unnamed: 0</th>\n",
       "      <th>Sepal.Length</th>\n",
       "      <th>Sepal.Width</th>\n",
       "      <th>Petal.Length</th>\n",
       "      <th>Petal.Width</th>\n",
       "      <th>Species</th>\n",
       "    </tr>\n",
       "  </thead>\n",
       "  <tbody>\n",
       "    <tr>\n",
       "      <th>0</th>\n",
       "      <td>1</td>\n",
       "      <td>5.1</td>\n",
       "      <td>3.5</td>\n",
       "      <td>1.4</td>\n",
       "      <td>0.2</td>\n",
       "      <td>setosa</td>\n",
       "    </tr>\n",
       "    <tr>\n",
       "      <th>1</th>\n",
       "      <td>2</td>\n",
       "      <td>4.9</td>\n",
       "      <td>3.0</td>\n",
       "      <td>1.4</td>\n",
       "      <td>0.2</td>\n",
       "      <td>setosa</td>\n",
       "    </tr>\n",
       "    <tr>\n",
       "      <th>2</th>\n",
       "      <td>3</td>\n",
       "      <td>4.7</td>\n",
       "      <td>3.2</td>\n",
       "      <td>1.3</td>\n",
       "      <td>0.2</td>\n",
       "      <td>setosa</td>\n",
       "    </tr>\n",
       "    <tr>\n",
       "      <th>3</th>\n",
       "      <td>4</td>\n",
       "      <td>4.6</td>\n",
       "      <td>3.1</td>\n",
       "      <td>1.5</td>\n",
       "      <td>0.2</td>\n",
       "      <td>setosa</td>\n",
       "    </tr>\n",
       "    <tr>\n",
       "      <th>4</th>\n",
       "      <td>5</td>\n",
       "      <td>5.0</td>\n",
       "      <td>3.6</td>\n",
       "      <td>1.4</td>\n",
       "      <td>0.2</td>\n",
       "      <td>setosa</td>\n",
       "    </tr>\n",
       "    <tr>\n",
       "      <th>...</th>\n",
       "      <td>...</td>\n",
       "      <td>...</td>\n",
       "      <td>...</td>\n",
       "      <td>...</td>\n",
       "      <td>...</td>\n",
       "      <td>...</td>\n",
       "    </tr>\n",
       "    <tr>\n",
       "      <th>145</th>\n",
       "      <td>146</td>\n",
       "      <td>6.7</td>\n",
       "      <td>3.0</td>\n",
       "      <td>5.2</td>\n",
       "      <td>2.3</td>\n",
       "      <td>virginica</td>\n",
       "    </tr>\n",
       "    <tr>\n",
       "      <th>146</th>\n",
       "      <td>147</td>\n",
       "      <td>6.3</td>\n",
       "      <td>2.5</td>\n",
       "      <td>5.0</td>\n",
       "      <td>1.9</td>\n",
       "      <td>virginica</td>\n",
       "    </tr>\n",
       "    <tr>\n",
       "      <th>147</th>\n",
       "      <td>148</td>\n",
       "      <td>6.5</td>\n",
       "      <td>3.0</td>\n",
       "      <td>5.2</td>\n",
       "      <td>2.0</td>\n",
       "      <td>virginica</td>\n",
       "    </tr>\n",
       "    <tr>\n",
       "      <th>148</th>\n",
       "      <td>149</td>\n",
       "      <td>6.2</td>\n",
       "      <td>3.4</td>\n",
       "      <td>5.4</td>\n",
       "      <td>2.3</td>\n",
       "      <td>virginica</td>\n",
       "    </tr>\n",
       "    <tr>\n",
       "      <th>149</th>\n",
       "      <td>150</td>\n",
       "      <td>5.9</td>\n",
       "      <td>3.0</td>\n",
       "      <td>5.1</td>\n",
       "      <td>1.8</td>\n",
       "      <td>virginica</td>\n",
       "    </tr>\n",
       "  </tbody>\n",
       "</table>\n",
       "<p>150 rows × 6 columns</p>\n",
       "</div>"
      ],
      "text/plain": [
       "     Unnamed: 0  Sepal.Length  Sepal.Width  Petal.Length  Petal.Width  \\\n",
       "0             1           5.1          3.5           1.4          0.2   \n",
       "1             2           4.9          3.0           1.4          0.2   \n",
       "2             3           4.7          3.2           1.3          0.2   \n",
       "3             4           4.6          3.1           1.5          0.2   \n",
       "4             5           5.0          3.6           1.4          0.2   \n",
       "..          ...           ...          ...           ...          ...   \n",
       "145         146           6.7          3.0           5.2          2.3   \n",
       "146         147           6.3          2.5           5.0          1.9   \n",
       "147         148           6.5          3.0           5.2          2.0   \n",
       "148         149           6.2          3.4           5.4          2.3   \n",
       "149         150           5.9          3.0           5.1          1.8   \n",
       "\n",
       "       Species  \n",
       "0       setosa  \n",
       "1       setosa  \n",
       "2       setosa  \n",
       "3       setosa  \n",
       "4       setosa  \n",
       "..         ...  \n",
       "145  virginica  \n",
       "146  virginica  \n",
       "147  virginica  \n",
       "148  virginica  \n",
       "149  virginica  \n",
       "\n",
       "[150 rows x 6 columns]"
      ]
     },
     "execution_count": 34,
     "metadata": {},
     "output_type": "execute_result"
    }
   ],
   "source": [
    "df"
   ]
  },
  {
   "cell_type": "code",
   "execution_count": 35,
   "id": "99b9329a-d21f-478a-ab64-37d117bf66c9",
   "metadata": {},
   "outputs": [
    {
     "data": {
      "text/html": [
       "<div>\n",
       "<style scoped>\n",
       "    .dataframe tbody tr th:only-of-type {\n",
       "        vertical-align: middle;\n",
       "    }\n",
       "\n",
       "    .dataframe tbody tr th {\n",
       "        vertical-align: top;\n",
       "    }\n",
       "\n",
       "    .dataframe thead th {\n",
       "        text-align: right;\n",
       "    }\n",
       "</style>\n",
       "<table border=\"1\" class=\"dataframe\">\n",
       "  <thead>\n",
       "    <tr style=\"text-align: right;\">\n",
       "      <th></th>\n",
       "      <th>Unnamed: 0</th>\n",
       "      <th>Sepal.Length</th>\n",
       "      <th>Sepal.Width</th>\n",
       "      <th>Petal.Length</th>\n",
       "      <th>Petal.Width</th>\n",
       "      <th>Species</th>\n",
       "    </tr>\n",
       "  </thead>\n",
       "  <tbody>\n",
       "    <tr>\n",
       "      <th>145</th>\n",
       "      <td>146</td>\n",
       "      <td>6.7</td>\n",
       "      <td>3.0</td>\n",
       "      <td>5.2</td>\n",
       "      <td>2.3</td>\n",
       "      <td>virginica</td>\n",
       "    </tr>\n",
       "    <tr>\n",
       "      <th>146</th>\n",
       "      <td>147</td>\n",
       "      <td>6.3</td>\n",
       "      <td>2.5</td>\n",
       "      <td>5.0</td>\n",
       "      <td>1.9</td>\n",
       "      <td>virginica</td>\n",
       "    </tr>\n",
       "    <tr>\n",
       "      <th>147</th>\n",
       "      <td>148</td>\n",
       "      <td>6.5</td>\n",
       "      <td>3.0</td>\n",
       "      <td>5.2</td>\n",
       "      <td>2.0</td>\n",
       "      <td>virginica</td>\n",
       "    </tr>\n",
       "    <tr>\n",
       "      <th>148</th>\n",
       "      <td>149</td>\n",
       "      <td>6.2</td>\n",
       "      <td>3.4</td>\n",
       "      <td>5.4</td>\n",
       "      <td>2.3</td>\n",
       "      <td>virginica</td>\n",
       "    </tr>\n",
       "    <tr>\n",
       "      <th>149</th>\n",
       "      <td>150</td>\n",
       "      <td>5.9</td>\n",
       "      <td>3.0</td>\n",
       "      <td>5.1</td>\n",
       "      <td>1.8</td>\n",
       "      <td>virginica</td>\n",
       "    </tr>\n",
       "  </tbody>\n",
       "</table>\n",
       "</div>"
      ],
      "text/plain": [
       "     Unnamed: 0  Sepal.Length  Sepal.Width  Petal.Length  Petal.Width  \\\n",
       "145         146           6.7          3.0           5.2          2.3   \n",
       "146         147           6.3          2.5           5.0          1.9   \n",
       "147         148           6.5          3.0           5.2          2.0   \n",
       "148         149           6.2          3.4           5.4          2.3   \n",
       "149         150           5.9          3.0           5.1          1.8   \n",
       "\n",
       "       Species  \n",
       "145  virginica  \n",
       "146  virginica  \n",
       "147  virginica  \n",
       "148  virginica  \n",
       "149  virginica  "
      ]
     },
     "execution_count": 35,
     "metadata": {},
     "output_type": "execute_result"
    }
   ],
   "source": [
    "df.tail()\n"
   ]
  },
  {
   "cell_type": "code",
   "execution_count": 36,
   "id": "77839213-9013-491c-9115-44908595a70f",
   "metadata": {},
   "outputs": [
    {
     "data": {
      "text/html": [
       "<div>\n",
       "<style scoped>\n",
       "    .dataframe tbody tr th:only-of-type {\n",
       "        vertical-align: middle;\n",
       "    }\n",
       "\n",
       "    .dataframe tbody tr th {\n",
       "        vertical-align: top;\n",
       "    }\n",
       "\n",
       "    .dataframe thead th {\n",
       "        text-align: right;\n",
       "    }\n",
       "</style>\n",
       "<table border=\"1\" class=\"dataframe\">\n",
       "  <thead>\n",
       "    <tr style=\"text-align: right;\">\n",
       "      <th></th>\n",
       "      <th>Unnamed: 0</th>\n",
       "      <th>Sepal.Length</th>\n",
       "      <th>Sepal.Width</th>\n",
       "      <th>Petal.Length</th>\n",
       "      <th>Petal.Width</th>\n",
       "      <th>Species</th>\n",
       "    </tr>\n",
       "  </thead>\n",
       "  <tbody>\n",
       "    <tr>\n",
       "      <th>0</th>\n",
       "      <td>1</td>\n",
       "      <td>5.1</td>\n",
       "      <td>3.5</td>\n",
       "      <td>1.4</td>\n",
       "      <td>0.2</td>\n",
       "      <td>setosa</td>\n",
       "    </tr>\n",
       "    <tr>\n",
       "      <th>1</th>\n",
       "      <td>2</td>\n",
       "      <td>4.9</td>\n",
       "      <td>3.0</td>\n",
       "      <td>1.4</td>\n",
       "      <td>0.2</td>\n",
       "      <td>setosa</td>\n",
       "    </tr>\n",
       "    <tr>\n",
       "      <th>2</th>\n",
       "      <td>3</td>\n",
       "      <td>4.7</td>\n",
       "      <td>3.2</td>\n",
       "      <td>1.3</td>\n",
       "      <td>0.2</td>\n",
       "      <td>setosa</td>\n",
       "    </tr>\n",
       "    <tr>\n",
       "      <th>3</th>\n",
       "      <td>4</td>\n",
       "      <td>4.6</td>\n",
       "      <td>3.1</td>\n",
       "      <td>1.5</td>\n",
       "      <td>0.2</td>\n",
       "      <td>setosa</td>\n",
       "    </tr>\n",
       "    <tr>\n",
       "      <th>4</th>\n",
       "      <td>5</td>\n",
       "      <td>5.0</td>\n",
       "      <td>3.6</td>\n",
       "      <td>1.4</td>\n",
       "      <td>0.2</td>\n",
       "      <td>setosa</td>\n",
       "    </tr>\n",
       "  </tbody>\n",
       "</table>\n",
       "</div>"
      ],
      "text/plain": [
       "   Unnamed: 0  Sepal.Length  Sepal.Width  Petal.Length  Petal.Width Species\n",
       "0           1           5.1          3.5           1.4          0.2  setosa\n",
       "1           2           4.9          3.0           1.4          0.2  setosa\n",
       "2           3           4.7          3.2           1.3          0.2  setosa\n",
       "3           4           4.6          3.1           1.5          0.2  setosa\n",
       "4           5           5.0          3.6           1.4          0.2  setosa"
      ]
     },
     "execution_count": 36,
     "metadata": {},
     "output_type": "execute_result"
    }
   ],
   "source": [
    "df.head()"
   ]
  },
  {
   "cell_type": "code",
   "execution_count": 37,
   "id": "5f9ea587-b115-420d-9965-8a25c5e98545",
   "metadata": {},
   "outputs": [
    {
     "data": {
      "text/plain": [
       "(150, 6)"
      ]
     },
     "execution_count": 37,
     "metadata": {},
     "output_type": "execute_result"
    }
   ],
   "source": [
    "df.shape"
   ]
  },
  {
   "cell_type": "code",
   "execution_count": 39,
   "id": "b03af220-01e6-4157-a6cc-f494073a1a70",
   "metadata": {},
   "outputs": [
    {
     "data": {
      "text/plain": [
       "900"
      ]
     },
     "execution_count": 39,
     "metadata": {},
     "output_type": "execute_result"
    }
   ],
   "source": [
    "df.size"
   ]
  },
  {
   "cell_type": "code",
   "execution_count": 40,
   "id": "4d486f35-6abc-4d7b-89df-19ffd3e93865",
   "metadata": {},
   "outputs": [
    {
     "data": {
      "text/plain": [
       "Unnamed: 0        int64\n",
       "Sepal.Length    float64\n",
       "Sepal.Width     float64\n",
       "Petal.Length    float64\n",
       "Petal.Width     float64\n",
       "Species          object\n",
       "dtype: object"
      ]
     },
     "execution_count": 40,
     "metadata": {},
     "output_type": "execute_result"
    }
   ],
   "source": [
    "df.dtypes"
   ]
  },
  {
   "cell_type": "code",
   "execution_count": 41,
   "id": "3d1155ee-c032-4d5f-b8a9-72d3959bd4ff",
   "metadata": {},
   "outputs": [
    {
     "data": {
      "text/plain": [
       "2"
      ]
     },
     "execution_count": 41,
     "metadata": {},
     "output_type": "execute_result"
    }
   ],
   "source": [
    "df.ndim"
   ]
  },
  {
   "cell_type": "code",
   "execution_count": 42,
   "id": "b35fd537-4e1a-41cc-ad44-9361bcd04cbb",
   "metadata": {},
   "outputs": [
    {
     "data": {
      "text/plain": [
       "array([[1, 5.1, 3.5, 1.4, 0.2, 'setosa'],\n",
       "       [2, 4.9, 3.0, 1.4, 0.2, 'setosa'],\n",
       "       [3, 4.7, 3.2, 1.3, 0.2, 'setosa'],\n",
       "       [4, 4.6, 3.1, 1.5, 0.2, 'setosa'],\n",
       "       [5, 5.0, 3.6, 1.4, 0.2, 'setosa'],\n",
       "       [6, 5.4, 3.9, 1.7, 0.4, 'setosa'],\n",
       "       [7, 4.6, 3.4, 1.4, 0.3, 'setosa'],\n",
       "       [8, 5.0, 3.4, 1.5, 0.2, 'setosa'],\n",
       "       [9, 4.4, 2.9, 1.4, 0.2, 'setosa'],\n",
       "       [10, 4.9, 3.1, 1.5, 0.1, 'setosa'],\n",
       "       [11, 5.4, 3.7, 1.5, 0.2, 'setosa'],\n",
       "       [12, 4.8, 3.4, 1.6, 0.2, 'setosa'],\n",
       "       [13, 4.8, 3.0, 1.4, 0.1, 'setosa'],\n",
       "       [14, 4.3, 3.0, 1.1, 0.1, 'setosa'],\n",
       "       [15, 5.8, 4.0, 1.2, 0.2, 'setosa'],\n",
       "       [16, 5.7, 4.4, 1.5, 0.4, 'setosa'],\n",
       "       [17, 5.4, 3.9, 1.3, 0.4, 'setosa'],\n",
       "       [18, 5.1, 3.5, 1.4, 0.3, 'setosa'],\n",
       "       [19, 5.7, 3.8, 1.7, 0.3, 'setosa'],\n",
       "       [20, 5.1, 3.8, 1.5, 0.3, 'setosa'],\n",
       "       [21, 5.4, 3.4, 1.7, 0.2, 'setosa'],\n",
       "       [22, 5.1, 3.7, 1.5, 0.4, 'setosa'],\n",
       "       [23, 4.6, 3.6, 1.0, 0.2, 'setosa'],\n",
       "       [24, 5.1, 3.3, 1.7, 0.5, 'setosa'],\n",
       "       [25, 4.8, 3.4, 1.9, 0.2, 'setosa'],\n",
       "       [26, 5.0, 3.0, 1.6, 0.2, 'setosa'],\n",
       "       [27, 5.0, 3.4, 1.6, 0.4, 'setosa'],\n",
       "       [28, 5.2, 3.5, 1.5, 0.2, 'setosa'],\n",
       "       [29, 5.2, 3.4, 1.4, 0.2, 'setosa'],\n",
       "       [30, 4.7, 3.2, 1.6, 0.2, 'setosa'],\n",
       "       [31, 4.8, 3.1, 1.6, 0.2, 'setosa'],\n",
       "       [32, 5.4, 3.4, 1.5, 0.4, 'setosa'],\n",
       "       [33, 5.2, 4.1, 1.5, 0.1, 'setosa'],\n",
       "       [34, 5.5, 4.2, 1.4, 0.2, 'setosa'],\n",
       "       [35, 4.9, 3.1, 1.5, 0.2, 'setosa'],\n",
       "       [36, 5.0, 3.2, 1.2, 0.2, 'setosa'],\n",
       "       [37, 5.5, 3.5, 1.3, 0.2, 'setosa'],\n",
       "       [38, 4.9, 3.6, 1.4, 0.1, 'setosa'],\n",
       "       [39, 4.4, 3.0, 1.3, 0.2, 'setosa'],\n",
       "       [40, 5.1, 3.4, 1.5, 0.2, 'setosa'],\n",
       "       [41, 5.0, 3.5, 1.3, 0.3, 'setosa'],\n",
       "       [42, 4.5, 2.3, 1.3, 0.3, 'setosa'],\n",
       "       [43, 4.4, 3.2, 1.3, 0.2, 'setosa'],\n",
       "       [44, 5.0, 3.5, 1.6, 0.6, 'setosa'],\n",
       "       [45, 5.1, 3.8, 1.9, 0.4, 'setosa'],\n",
       "       [46, 4.8, 3.0, 1.4, 0.3, 'setosa'],\n",
       "       [47, 5.1, 3.8, 1.6, 0.2, 'setosa'],\n",
       "       [48, 4.6, 3.2, 1.4, 0.2, 'setosa'],\n",
       "       [49, 5.3, 3.7, 1.5, 0.2, 'setosa'],\n",
       "       [50, 5.0, 3.3, 1.4, 0.2, 'setosa'],\n",
       "       [51, 7.0, 3.2, 4.7, 1.4, 'versicolor'],\n",
       "       [52, 6.4, 3.2, 4.5, 1.5, 'versicolor'],\n",
       "       [53, 6.9, 3.1, 4.9, 1.5, 'versicolor'],\n",
       "       [54, 5.5, 2.3, 4.0, 1.3, 'versicolor'],\n",
       "       [55, 6.5, 2.8, 4.6, 1.5, 'versicolor'],\n",
       "       [56, 5.7, 2.8, 4.5, 1.3, 'versicolor'],\n",
       "       [57, 6.3, 3.3, 4.7, 1.6, 'versicolor'],\n",
       "       [58, 4.9, 2.4, 3.3, 1.0, 'versicolor'],\n",
       "       [59, 6.6, 2.9, 4.6, 1.3, 'versicolor'],\n",
       "       [60, 5.2, 2.7, 3.9, 1.4, 'versicolor'],\n",
       "       [61, 5.0, 2.0, 3.5, 1.0, 'versicolor'],\n",
       "       [62, 5.9, 3.0, 4.2, 1.5, 'versicolor'],\n",
       "       [63, 6.0, 2.2, 4.0, 1.0, 'versicolor'],\n",
       "       [64, 6.1, 2.9, 4.7, 1.4, 'versicolor'],\n",
       "       [65, 5.6, 2.9, 3.6, 1.3, 'versicolor'],\n",
       "       [66, 6.7, 3.1, 4.4, 1.4, 'versicolor'],\n",
       "       [67, 5.6, 3.0, 4.5, 1.5, 'versicolor'],\n",
       "       [68, 5.8, 2.7, 4.1, 1.0, 'versicolor'],\n",
       "       [69, 6.2, 2.2, 4.5, 1.5, 'versicolor'],\n",
       "       [70, 5.6, 2.5, 3.9, 1.1, 'versicolor'],\n",
       "       [71, 5.9, 3.2, 4.8, 1.8, 'versicolor'],\n",
       "       [72, 6.1, 2.8, 4.0, 1.3, 'versicolor'],\n",
       "       [73, 6.3, 2.5, 4.9, 1.5, 'versicolor'],\n",
       "       [74, 6.1, 2.8, 4.7, 1.2, 'versicolor'],\n",
       "       [75, 6.4, 2.9, 4.3, 1.3, 'versicolor'],\n",
       "       [76, 6.6, 3.0, 4.4, 1.4, 'versicolor'],\n",
       "       [77, 6.8, 2.8, 4.8, 1.4, 'versicolor'],\n",
       "       [78, 6.7, 3.0, 5.0, 1.7, 'versicolor'],\n",
       "       [79, 6.0, 2.9, 4.5, 1.5, 'versicolor'],\n",
       "       [80, 5.7, 2.6, 3.5, 1.0, 'versicolor'],\n",
       "       [81, 5.5, 2.4, 3.8, 1.1, 'versicolor'],\n",
       "       [82, 5.5, 2.4, 3.7, 1.0, 'versicolor'],\n",
       "       [83, 5.8, 2.7, 3.9, 1.2, 'versicolor'],\n",
       "       [84, 6.0, 2.7, 5.1, 1.6, 'versicolor'],\n",
       "       [85, 5.4, 3.0, 4.5, 1.5, 'versicolor'],\n",
       "       [86, 6.0, 3.4, 4.5, 1.6, 'versicolor'],\n",
       "       [87, 6.7, 3.1, 4.7, 1.5, 'versicolor'],\n",
       "       [88, 6.3, 2.3, 4.4, 1.3, 'versicolor'],\n",
       "       [89, 5.6, 3.0, 4.1, 1.3, 'versicolor'],\n",
       "       [90, 5.5, 2.5, 4.0, 1.3, 'versicolor'],\n",
       "       [91, 5.5, 2.6, 4.4, 1.2, 'versicolor'],\n",
       "       [92, 6.1, 3.0, 4.6, 1.4, 'versicolor'],\n",
       "       [93, 5.8, 2.6, 4.0, 1.2, 'versicolor'],\n",
       "       [94, 5.0, 2.3, 3.3, 1.0, 'versicolor'],\n",
       "       [95, 5.6, 2.7, 4.2, 1.3, 'versicolor'],\n",
       "       [96, 5.7, 3.0, 4.2, 1.2, 'versicolor'],\n",
       "       [97, 5.7, 2.9, 4.2, 1.3, 'versicolor'],\n",
       "       [98, 6.2, 2.9, 4.3, 1.3, 'versicolor'],\n",
       "       [99, 5.1, 2.5, 3.0, 1.1, 'versicolor'],\n",
       "       [100, 5.7, 2.8, 4.1, 1.3, 'versicolor'],\n",
       "       [101, 6.3, 3.3, 6.0, 2.5, 'virginica'],\n",
       "       [102, 5.8, 2.7, 5.1, 1.9, 'virginica'],\n",
       "       [103, 7.1, 3.0, 5.9, 2.1, 'virginica'],\n",
       "       [104, 6.3, 2.9, 5.6, 1.8, 'virginica'],\n",
       "       [105, 6.5, 3.0, 5.8, 2.2, 'virginica'],\n",
       "       [106, 7.6, 3.0, 6.6, 2.1, 'virginica'],\n",
       "       [107, 4.9, 2.5, 4.5, 1.7, 'virginica'],\n",
       "       [108, 7.3, 2.9, 6.3, 1.8, 'virginica'],\n",
       "       [109, 6.7, 2.5, 5.8, 1.8, 'virginica'],\n",
       "       [110, 7.2, 3.6, 6.1, 2.5, 'virginica'],\n",
       "       [111, 6.5, 3.2, 5.1, 2.0, 'virginica'],\n",
       "       [112, 6.4, 2.7, 5.3, 1.9, 'virginica'],\n",
       "       [113, 6.8, 3.0, 5.5, 2.1, 'virginica'],\n",
       "       [114, 5.7, 2.5, 5.0, 2.0, 'virginica'],\n",
       "       [115, 5.8, 2.8, 5.1, 2.4, 'virginica'],\n",
       "       [116, 6.4, 3.2, 5.3, 2.3, 'virginica'],\n",
       "       [117, 6.5, 3.0, 5.5, 1.8, 'virginica'],\n",
       "       [118, 7.7, 3.8, 6.7, 2.2, 'virginica'],\n",
       "       [119, 7.7, 2.6, 6.9, 2.3, 'virginica'],\n",
       "       [120, 6.0, 2.2, 5.0, 1.5, 'virginica'],\n",
       "       [121, 6.9, 3.2, 5.7, 2.3, 'virginica'],\n",
       "       [122, 5.6, 2.8, 4.9, 2.0, 'virginica'],\n",
       "       [123, 7.7, 2.8, 6.7, 2.0, 'virginica'],\n",
       "       [124, 6.3, 2.7, 4.9, 1.8, 'virginica'],\n",
       "       [125, 6.7, 3.3, 5.7, 2.1, 'virginica'],\n",
       "       [126, 7.2, 3.2, 6.0, 1.8, 'virginica'],\n",
       "       [127, 6.2, 2.8, 4.8, 1.8, 'virginica'],\n",
       "       [128, 6.1, 3.0, 4.9, 1.8, 'virginica'],\n",
       "       [129, 6.4, 2.8, 5.6, 2.1, 'virginica'],\n",
       "       [130, 7.2, 3.0, 5.8, 1.6, 'virginica'],\n",
       "       [131, 7.4, 2.8, 6.1, 1.9, 'virginica'],\n",
       "       [132, 7.9, 3.8, 6.4, 2.0, 'virginica'],\n",
       "       [133, 6.4, 2.8, 5.6, 2.2, 'virginica'],\n",
       "       [134, 6.3, 2.8, 5.1, 1.5, 'virginica'],\n",
       "       [135, 6.1, 2.6, 5.6, 1.4, 'virginica'],\n",
       "       [136, 7.7, 3.0, 6.1, 2.3, 'virginica'],\n",
       "       [137, 6.3, 3.4, 5.6, 2.4, 'virginica'],\n",
       "       [138, 6.4, 3.1, 5.5, 1.8, 'virginica'],\n",
       "       [139, 6.0, 3.0, 4.8, 1.8, 'virginica'],\n",
       "       [140, 6.9, 3.1, 5.4, 2.1, 'virginica'],\n",
       "       [141, 6.7, 3.1, 5.6, 2.4, 'virginica'],\n",
       "       [142, 6.9, 3.1, 5.1, 2.3, 'virginica'],\n",
       "       [143, 5.8, 2.7, 5.1, 1.9, 'virginica'],\n",
       "       [144, 6.8, 3.2, 5.9, 2.3, 'virginica'],\n",
       "       [145, 6.7, 3.3, 5.7, 2.5, 'virginica'],\n",
       "       [146, 6.7, 3.0, 5.2, 2.3, 'virginica'],\n",
       "       [147, 6.3, 2.5, 5.0, 1.9, 'virginica'],\n",
       "       [148, 6.5, 3.0, 5.2, 2.0, 'virginica'],\n",
       "       [149, 6.2, 3.4, 5.4, 2.3, 'virginica'],\n",
       "       [150, 5.9, 3.0, 5.1, 1.8, 'virginica']], dtype=object)"
      ]
     },
     "execution_count": 42,
     "metadata": {},
     "output_type": "execute_result"
    }
   ],
   "source": [
    "df.values"
   ]
  },
  {
   "cell_type": "code",
   "execution_count": 43,
   "id": "ec214639-fe0b-43cf-8f65-ff3f715b155a",
   "metadata": {},
   "outputs": [
    {
     "data": {
      "text/plain": [
       "Index(['Unnamed: 0', 'Sepal.Length', 'Sepal.Width', 'Petal.Length',\n",
       "       'Petal.Width', 'Species'],\n",
       "      dtype='object')"
      ]
     },
     "execution_count": 43,
     "metadata": {},
     "output_type": "execute_result"
    }
   ],
   "source": [
    "df.columns"
   ]
  },
  {
   "cell_type": "code",
   "execution_count": 44,
   "id": "81e7bb3d-1a65-480c-a0ad-bfa5a59e0a5e",
   "metadata": {},
   "outputs": [
    {
     "data": {
      "text/plain": [
       "RangeIndex(start=0, stop=150, step=1)"
      ]
     },
     "execution_count": 44,
     "metadata": {},
     "output_type": "execute_result"
    }
   ],
   "source": [
    "df.index"
   ]
  },
  {
   "cell_type": "code",
   "execution_count": 45,
   "id": "517733ba-d094-4690-8339-37ce8b46c0cc",
   "metadata": {},
   "outputs": [
    {
     "data": {
      "text/plain": [
       "[RangeIndex(start=0, stop=150, step=1),\n",
       " Index(['Unnamed: 0', 'Sepal.Length', 'Sepal.Width', 'Petal.Length',\n",
       "        'Petal.Width', 'Species'],\n",
       "       dtype='object')]"
      ]
     },
     "execution_count": 45,
     "metadata": {},
     "output_type": "execute_result"
    }
   ],
   "source": [
    "df.axes"
   ]
  },
  {
   "cell_type": "code",
   "execution_count": 46,
   "id": "e77264b9-a834-49f4-9f67-f42aba5f0c47",
   "metadata": {},
   "outputs": [
    {
     "data": {
      "text/plain": [
       "<bound method NDFrame.describe of      Unnamed: 0  Sepal.Length  Sepal.Width  Petal.Length  Petal.Width  \\\n",
       "0             1           5.1          3.5           1.4          0.2   \n",
       "1             2           4.9          3.0           1.4          0.2   \n",
       "2             3           4.7          3.2           1.3          0.2   \n",
       "3             4           4.6          3.1           1.5          0.2   \n",
       "4             5           5.0          3.6           1.4          0.2   \n",
       "..          ...           ...          ...           ...          ...   \n",
       "145         146           6.7          3.0           5.2          2.3   \n",
       "146         147           6.3          2.5           5.0          1.9   \n",
       "147         148           6.5          3.0           5.2          2.0   \n",
       "148         149           6.2          3.4           5.4          2.3   \n",
       "149         150           5.9          3.0           5.1          1.8   \n",
       "\n",
       "       Species  \n",
       "0       setosa  \n",
       "1       setosa  \n",
       "2       setosa  \n",
       "3       setosa  \n",
       "4       setosa  \n",
       "..         ...  \n",
       "145  virginica  \n",
       "146  virginica  \n",
       "147  virginica  \n",
       "148  virginica  \n",
       "149  virginica  \n",
       "\n",
       "[150 rows x 6 columns]>"
      ]
     },
     "execution_count": 46,
     "metadata": {},
     "output_type": "execute_result"
    }
   ],
   "source": [
    "df.describe"
   ]
  },
  {
   "cell_type": "code",
   "execution_count": 49,
   "id": "929ac7ba-a07c-45a1-a172-060bc0252818",
   "metadata": {},
   "outputs": [],
   "source": [
    "# Loading in a new data frame file: salaries.csv\n",
    "df = pd.read_csv('dataset/Salaries.csv')"
   ]
  },
  {
   "cell_type": "code",
   "execution_count": 50,
   "id": "75f6b686-bb5b-43fe-b658-5ce9eb4a91e6",
   "metadata": {},
   "outputs": [
    {
     "data": {
      "text/plain": [
       "<bound method NDFrame.describe of          rank discipline  phd  service     sex  salary\n",
       "0        Prof          B   56       49    Male  186960\n",
       "1        Prof          A   12        6    Male   93000\n",
       "2        Prof          A   23       20    Male  110515\n",
       "3        Prof          A   40       31    Male  131205\n",
       "4        Prof          B   20       18    Male  104800\n",
       "..        ...        ...  ...      ...     ...     ...\n",
       "73       Prof          B   18       10  Female  105450\n",
       "74  AssocProf          B   19        6  Female  104542\n",
       "75       Prof          B   17       17  Female  124312\n",
       "76       Prof          A   28       14  Female  109954\n",
       "77       Prof          A   23       15  Female  109646\n",
       "\n",
       "[78 rows x 6 columns]>"
      ]
     },
     "execution_count": 50,
     "metadata": {},
     "output_type": "execute_result"
    }
   ],
   "source": [
    "df.describe"
   ]
  },
  {
   "cell_type": "code",
   "execution_count": 51,
   "id": "3bcb1802-971a-499b-ae9a-f1174e2e5bea",
   "metadata": {},
   "outputs": [
    {
     "name": "stdout",
     "output_type": "stream",
     "text": [
      "<class 'pandas.core.frame.DataFrame'>\n",
      "RangeIndex: 78 entries, 0 to 77\n",
      "Data columns (total 6 columns):\n",
      " #   Column      Non-Null Count  Dtype \n",
      "---  ------      --------------  ----- \n",
      " 0   rank        78 non-null     object\n",
      " 1   discipline  78 non-null     object\n",
      " 2   phd         78 non-null     int64 \n",
      " 3   service     78 non-null     int64 \n",
      " 4   sex         78 non-null     object\n",
      " 5   salary      78 non-null     int64 \n",
      "dtypes: int64(3), object(3)\n",
      "memory usage: 3.8+ KB\n"
     ]
    }
   ],
   "source": [
    "df.info()"
   ]
  },
  {
   "cell_type": "code",
   "execution_count": 56,
   "id": "80ca474c-feac-4625-8e67-a3f325321394",
   "metadata": {},
   "outputs": [],
   "source": [
    "# df.median(include='O')"
   ]
  },
  {
   "cell_type": "code",
   "execution_count": 63,
   "id": "68cf56ec-4a07-4cc1-b995-125581d43aa3",
   "metadata": {},
   "outputs": [
    {
     "data": {
      "text/plain": [
       "104671.0"
      ]
     },
     "execution_count": 63,
     "metadata": {},
     "output_type": "execute_result"
    }
   ],
   "source": [
    "df['salary'].median()"
   ]
  },
  {
   "cell_type": "code",
   "execution_count": 59,
   "id": "ee394e16-38a0-4c66-819e-cbf0223f5ea3",
   "metadata": {},
   "outputs": [
    {
     "data": {
      "text/html": [
       "<div>\n",
       "<style scoped>\n",
       "    .dataframe tbody tr th:only-of-type {\n",
       "        vertical-align: middle;\n",
       "    }\n",
       "\n",
       "    .dataframe tbody tr th {\n",
       "        vertical-align: top;\n",
       "    }\n",
       "\n",
       "    .dataframe thead th {\n",
       "        text-align: right;\n",
       "    }\n",
       "</style>\n",
       "<table border=\"1\" class=\"dataframe\">\n",
       "  <thead>\n",
       "    <tr style=\"text-align: right;\">\n",
       "      <th></th>\n",
       "      <th>rank</th>\n",
       "      <th>discipline</th>\n",
       "      <th>phd</th>\n",
       "      <th>service</th>\n",
       "      <th>sex</th>\n",
       "      <th>salary</th>\n",
       "    </tr>\n",
       "  </thead>\n",
       "  <tbody>\n",
       "    <tr>\n",
       "      <th>0</th>\n",
       "      <td>Prof</td>\n",
       "      <td>B</td>\n",
       "      <td>56</td>\n",
       "      <td>49</td>\n",
       "      <td>Male</td>\n",
       "      <td>186960</td>\n",
       "    </tr>\n",
       "    <tr>\n",
       "      <th>1</th>\n",
       "      <td>Prof</td>\n",
       "      <td>A</td>\n",
       "      <td>12</td>\n",
       "      <td>6</td>\n",
       "      <td>Male</td>\n",
       "      <td>93000</td>\n",
       "    </tr>\n",
       "    <tr>\n",
       "      <th>2</th>\n",
       "      <td>Prof</td>\n",
       "      <td>A</td>\n",
       "      <td>23</td>\n",
       "      <td>20</td>\n",
       "      <td>Male</td>\n",
       "      <td>110515</td>\n",
       "    </tr>\n",
       "    <tr>\n",
       "      <th>3</th>\n",
       "      <td>Prof</td>\n",
       "      <td>A</td>\n",
       "      <td>40</td>\n",
       "      <td>31</td>\n",
       "      <td>Male</td>\n",
       "      <td>131205</td>\n",
       "    </tr>\n",
       "    <tr>\n",
       "      <th>4</th>\n",
       "      <td>Prof</td>\n",
       "      <td>B</td>\n",
       "      <td>20</td>\n",
       "      <td>18</td>\n",
       "      <td>Male</td>\n",
       "      <td>104800</td>\n",
       "    </tr>\n",
       "  </tbody>\n",
       "</table>\n",
       "</div>"
      ],
      "text/plain": [
       "   rank discipline  phd  service   sex  salary\n",
       "0  Prof          B   56       49  Male  186960\n",
       "1  Prof          A   12        6  Male   93000\n",
       "2  Prof          A   23       20  Male  110515\n",
       "3  Prof          A   40       31  Male  131205\n",
       "4  Prof          B   20       18  Male  104800"
      ]
     },
     "execution_count": 59,
     "metadata": {},
     "output_type": "execute_result"
    }
   ],
   "source": [
    "## ==> DataFrame Slicing\n",
    "## One or more columns\n",
    "df.head()"
   ]
  },
  {
   "cell_type": "code",
   "execution_count": 60,
   "id": "0a075e63-31c9-4f48-bdcb-51d93e99442b",
   "metadata": {},
   "outputs": [
    {
     "data": {
      "text/plain": [
       "0     186960\n",
       "1      93000\n",
       "2     110515\n",
       "3     131205\n",
       "4     104800\n",
       "       ...  \n",
       "73    105450\n",
       "74    104542\n",
       "75    124312\n",
       "76    109954\n",
       "77    109646\n",
       "Name: salary, Length: 78, dtype: int64"
      ]
     },
     "execution_count": 60,
     "metadata": {},
     "output_type": "execute_result"
    }
   ],
   "source": [
    "df['salary']"
   ]
  },
  {
   "cell_type": "code",
   "execution_count": 62,
   "id": "47c8afc1-e555-4013-8507-7f7425d8b364",
   "metadata": {},
   "outputs": [
    {
     "data": {
      "text/plain": [
       "108023.78205128205"
      ]
     },
     "execution_count": 62,
     "metadata": {},
     "output_type": "execute_result"
    }
   ],
   "source": [
    "df['salary'].mean()"
   ]
  },
  {
   "cell_type": "code",
   "execution_count": 65,
   "id": "63a52296-2d34-4a1f-a225-3898579d25a1",
   "metadata": {},
   "outputs": [
    {
     "data": {
      "text/plain": [
       "108023.78205128205"
      ]
     },
     "execution_count": 65,
     "metadata": {},
     "output_type": "execute_result"
    }
   ],
   "source": [
    "df.salary.mean()"
   ]
  },
  {
   "cell_type": "code",
   "execution_count": 68,
   "id": "a31d8c88-0fed-4c1a-b305-886297b80e9f",
   "metadata": {},
   "outputs": [
    {
     "data": {
      "text/html": [
       "<div>\n",
       "<style scoped>\n",
       "    .dataframe tbody tr th:only-of-type {\n",
       "        vertical-align: middle;\n",
       "    }\n",
       "\n",
       "    .dataframe tbody tr th {\n",
       "        vertical-align: top;\n",
       "    }\n",
       "\n",
       "    .dataframe thead th {\n",
       "        text-align: right;\n",
       "    }\n",
       "</style>\n",
       "<table border=\"1\" class=\"dataframe\">\n",
       "  <thead>\n",
       "    <tr style=\"text-align: right;\">\n",
       "      <th></th>\n",
       "      <th>rank</th>\n",
       "      <th>phd</th>\n",
       "      <th>sex</th>\n",
       "    </tr>\n",
       "  </thead>\n",
       "  <tbody>\n",
       "    <tr>\n",
       "      <th>0</th>\n",
       "      <td>Prof</td>\n",
       "      <td>56</td>\n",
       "      <td>Male</td>\n",
       "    </tr>\n",
       "    <tr>\n",
       "      <th>1</th>\n",
       "      <td>Prof</td>\n",
       "      <td>12</td>\n",
       "      <td>Male</td>\n",
       "    </tr>\n",
       "    <tr>\n",
       "      <th>2</th>\n",
       "      <td>Prof</td>\n",
       "      <td>23</td>\n",
       "      <td>Male</td>\n",
       "    </tr>\n",
       "    <tr>\n",
       "      <th>3</th>\n",
       "      <td>Prof</td>\n",
       "      <td>40</td>\n",
       "      <td>Male</td>\n",
       "    </tr>\n",
       "    <tr>\n",
       "      <th>4</th>\n",
       "      <td>Prof</td>\n",
       "      <td>20</td>\n",
       "      <td>Male</td>\n",
       "    </tr>\n",
       "    <tr>\n",
       "      <th>...</th>\n",
       "      <td>...</td>\n",
       "      <td>...</td>\n",
       "      <td>...</td>\n",
       "    </tr>\n",
       "    <tr>\n",
       "      <th>73</th>\n",
       "      <td>Prof</td>\n",
       "      <td>18</td>\n",
       "      <td>Female</td>\n",
       "    </tr>\n",
       "    <tr>\n",
       "      <th>74</th>\n",
       "      <td>AssocProf</td>\n",
       "      <td>19</td>\n",
       "      <td>Female</td>\n",
       "    </tr>\n",
       "    <tr>\n",
       "      <th>75</th>\n",
       "      <td>Prof</td>\n",
       "      <td>17</td>\n",
       "      <td>Female</td>\n",
       "    </tr>\n",
       "    <tr>\n",
       "      <th>76</th>\n",
       "      <td>Prof</td>\n",
       "      <td>28</td>\n",
       "      <td>Female</td>\n",
       "    </tr>\n",
       "    <tr>\n",
       "      <th>77</th>\n",
       "      <td>Prof</td>\n",
       "      <td>23</td>\n",
       "      <td>Female</td>\n",
       "    </tr>\n",
       "  </tbody>\n",
       "</table>\n",
       "<p>78 rows × 3 columns</p>\n",
       "</div>"
      ],
      "text/plain": [
       "         rank  phd     sex\n",
       "0        Prof   56    Male\n",
       "1        Prof   12    Male\n",
       "2        Prof   23    Male\n",
       "3        Prof   40    Male\n",
       "4        Prof   20    Male\n",
       "..        ...  ...     ...\n",
       "73       Prof   18  Female\n",
       "74  AssocProf   19  Female\n",
       "75       Prof   17  Female\n",
       "76       Prof   28  Female\n",
       "77       Prof   23  Female\n",
       "\n",
       "[78 rows x 3 columns]"
      ]
     },
     "execution_count": 68,
     "metadata": {},
     "output_type": "execute_result"
    }
   ],
   "source": [
    "# If you want to extract multiple specific columns, then you need to pass the list of column names\n",
    "cols = ['rank', 'phd', 'sex']\n",
    "df[cols]\n",
    "\n",
    "# You can also assigned this data to a new data frame\n",
    "new_df = df[cols]\n",
    "new_df"
   ]
  },
  {
   "cell_type": "code",
   "execution_count": 72,
   "id": "40e1a686-f250-490d-bcce-bde987df3a3a",
   "metadata": {},
   "outputs": [
    {
     "data": {
      "text/html": [
       "<div>\n",
       "<style scoped>\n",
       "    .dataframe tbody tr th:only-of-type {\n",
       "        vertical-align: middle;\n",
       "    }\n",
       "\n",
       "    .dataframe tbody tr th {\n",
       "        vertical-align: top;\n",
       "    }\n",
       "\n",
       "    .dataframe thead th {\n",
       "        text-align: right;\n",
       "    }\n",
       "</style>\n",
       "<table border=\"1\" class=\"dataframe\">\n",
       "  <thead>\n",
       "    <tr style=\"text-align: right;\">\n",
       "      <th></th>\n",
       "      <th>rank</th>\n",
       "      <th>phd</th>\n",
       "      <th>sex</th>\n",
       "    </tr>\n",
       "  </thead>\n",
       "  <tbody>\n",
       "    <tr>\n",
       "      <th>0</th>\n",
       "      <td>Prof</td>\n",
       "      <td>56</td>\n",
       "      <td>Male</td>\n",
       "    </tr>\n",
       "    <tr>\n",
       "      <th>1</th>\n",
       "      <td>Prof</td>\n",
       "      <td>12</td>\n",
       "      <td>Male</td>\n",
       "    </tr>\n",
       "    <tr>\n",
       "      <th>2</th>\n",
       "      <td>Prof</td>\n",
       "      <td>23</td>\n",
       "      <td>Male</td>\n",
       "    </tr>\n",
       "    <tr>\n",
       "      <th>3</th>\n",
       "      <td>Prof</td>\n",
       "      <td>40</td>\n",
       "      <td>Male</td>\n",
       "    </tr>\n",
       "    <tr>\n",
       "      <th>4</th>\n",
       "      <td>Prof</td>\n",
       "      <td>20</td>\n",
       "      <td>Male</td>\n",
       "    </tr>\n",
       "  </tbody>\n",
       "</table>\n",
       "</div>"
      ],
      "text/plain": [
       "   rank  phd   sex\n",
       "0  Prof   56  Male\n",
       "1  Prof   12  Male\n",
       "2  Prof   23  Male\n",
       "3  Prof   40  Male\n",
       "4  Prof   20  Male"
      ]
     },
     "execution_count": 72,
     "metadata": {},
     "output_type": "execute_result"
    }
   ],
   "source": [
    "new_df.head()"
   ]
  },
  {
   "cell_type": "code",
   "execution_count": 75,
   "id": "ba6d2df3-2a70-4577-b030-12fd79e575ba",
   "metadata": {},
   "outputs": [
    {
     "data": {
      "text/html": [
       "<div>\n",
       "<style scoped>\n",
       "    .dataframe tbody tr th:only-of-type {\n",
       "        vertical-align: middle;\n",
       "    }\n",
       "\n",
       "    .dataframe tbody tr th {\n",
       "        vertical-align: top;\n",
       "    }\n",
       "\n",
       "    .dataframe thead th {\n",
       "        text-align: right;\n",
       "    }\n",
       "</style>\n",
       "<table border=\"1\" class=\"dataframe\">\n",
       "  <thead>\n",
       "    <tr style=\"text-align: right;\">\n",
       "      <th></th>\n",
       "      <th>rank</th>\n",
       "      <th>discipline</th>\n",
       "      <th>phd</th>\n",
       "      <th>service</th>\n",
       "      <th>sex</th>\n",
       "    </tr>\n",
       "  </thead>\n",
       "  <tbody>\n",
       "    <tr>\n",
       "      <th>1</th>\n",
       "      <td>Prof</td>\n",
       "      <td>A</td>\n",
       "      <td>12</td>\n",
       "      <td>6</td>\n",
       "      <td>Male</td>\n",
       "    </tr>\n",
       "    <tr>\n",
       "      <th>2</th>\n",
       "      <td>Prof</td>\n",
       "      <td>A</td>\n",
       "      <td>23</td>\n",
       "      <td>20</td>\n",
       "      <td>Male</td>\n",
       "    </tr>\n",
       "    <tr>\n",
       "      <th>3</th>\n",
       "      <td>Prof</td>\n",
       "      <td>A</td>\n",
       "      <td>40</td>\n",
       "      <td>31</td>\n",
       "      <td>Male</td>\n",
       "    </tr>\n",
       "    <tr>\n",
       "      <th>4</th>\n",
       "      <td>Prof</td>\n",
       "      <td>B</td>\n",
       "      <td>20</td>\n",
       "      <td>18</td>\n",
       "      <td>Male</td>\n",
       "    </tr>\n",
       "    <tr>\n",
       "      <th>5</th>\n",
       "      <td>Prof</td>\n",
       "      <td>A</td>\n",
       "      <td>20</td>\n",
       "      <td>20</td>\n",
       "      <td>Male</td>\n",
       "    </tr>\n",
       "    <tr>\n",
       "      <th>6</th>\n",
       "      <td>AssocProf</td>\n",
       "      <td>A</td>\n",
       "      <td>20</td>\n",
       "      <td>17</td>\n",
       "      <td>Male</td>\n",
       "    </tr>\n",
       "    <tr>\n",
       "      <th>7</th>\n",
       "      <td>Prof</td>\n",
       "      <td>A</td>\n",
       "      <td>18</td>\n",
       "      <td>18</td>\n",
       "      <td>Male</td>\n",
       "    </tr>\n",
       "    <tr>\n",
       "      <th>8</th>\n",
       "      <td>Prof</td>\n",
       "      <td>A</td>\n",
       "      <td>29</td>\n",
       "      <td>19</td>\n",
       "      <td>Male</td>\n",
       "    </tr>\n",
       "    <tr>\n",
       "      <th>9</th>\n",
       "      <td>Prof</td>\n",
       "      <td>A</td>\n",
       "      <td>51</td>\n",
       "      <td>51</td>\n",
       "      <td>Male</td>\n",
       "    </tr>\n",
       "    <tr>\n",
       "      <th>10</th>\n",
       "      <td>Prof</td>\n",
       "      <td>B</td>\n",
       "      <td>39</td>\n",
       "      <td>33</td>\n",
       "      <td>Male</td>\n",
       "    </tr>\n",
       "  </tbody>\n",
       "</table>\n",
       "</div>"
      ],
      "text/plain": [
       "         rank discipline  phd  service   sex\n",
       "1        Prof          A   12        6  Male\n",
       "2        Prof          A   23       20  Male\n",
       "3        Prof          A   40       31  Male\n",
       "4        Prof          B   20       18  Male\n",
       "5        Prof          A   20       20  Male\n",
       "6   AssocProf          A   20       17  Male\n",
       "7        Prof          A   18       18  Male\n",
       "8        Prof          A   29       19  Male\n",
       "9        Prof          A   51       51  Male\n",
       "10       Prof          B   39       33  Male"
      ]
     },
     "execution_count": 75,
     "metadata": {},
     "output_type": "execute_result"
    }
   ],
   "source": [
    "df.loc[1:10, 'rank':'sex'] #Slicing range of labels,  you can also add .head() to end of this"
   ]
  },
  {
   "cell_type": "code",
   "execution_count": 76,
   "id": "b3398fd9-4d56-4431-a6f4-8212fde4358e",
   "metadata": {},
   "outputs": [
    {
     "data": {
      "text/html": [
       "<div>\n",
       "<style scoped>\n",
       "    .dataframe tbody tr th:only-of-type {\n",
       "        vertical-align: middle;\n",
       "    }\n",
       "\n",
       "    .dataframe tbody tr th {\n",
       "        vertical-align: top;\n",
       "    }\n",
       "\n",
       "    .dataframe thead th {\n",
       "        text-align: right;\n",
       "    }\n",
       "</style>\n",
       "<table border=\"1\" class=\"dataframe\">\n",
       "  <thead>\n",
       "    <tr style=\"text-align: right;\">\n",
       "      <th></th>\n",
       "      <th>rank</th>\n",
       "      <th>sex</th>\n",
       "      <th>salary</th>\n",
       "    </tr>\n",
       "  </thead>\n",
       "  <tbody>\n",
       "    <tr>\n",
       "      <th>1</th>\n",
       "      <td>Prof</td>\n",
       "      <td>Male</td>\n",
       "      <td>93000</td>\n",
       "    </tr>\n",
       "    <tr>\n",
       "      <th>5</th>\n",
       "      <td>Prof</td>\n",
       "      <td>Male</td>\n",
       "      <td>122400</td>\n",
       "    </tr>\n",
       "    <tr>\n",
       "      <th>9</th>\n",
       "      <td>Prof</td>\n",
       "      <td>Male</td>\n",
       "      <td>57800</td>\n",
       "    </tr>\n",
       "  </tbody>\n",
       "</table>\n",
       "</div>"
      ],
      "text/plain": [
       "   rank   sex  salary\n",
       "1  Prof  Male   93000\n",
       "5  Prof  Male  122400\n",
       "9  Prof  Male   57800"
      ]
     },
     "execution_count": 76,
     "metadata": {},
     "output_type": "execute_result"
    }
   ],
   "source": [
    "# request specific row labels and specific column labels to slice, not possible in arrays\n",
    "# numbers are automatically assigned to row labels if none is given when assigned to dataframe\n",
    "df.loc[[1,5,9],['rank', 'sex', 'salary']]"
   ]
  },
  {
   "cell_type": "code",
   "execution_count": 77,
   "id": "ccfa25bc-f9dd-4794-9e49-1e2032a06f74",
   "metadata": {},
   "outputs": [
    {
     "data": {
      "text/html": [
       "<div>\n",
       "<style scoped>\n",
       "    .dataframe tbody tr th:only-of-type {\n",
       "        vertical-align: middle;\n",
       "    }\n",
       "\n",
       "    .dataframe tbody tr th {\n",
       "        vertical-align: top;\n",
       "    }\n",
       "\n",
       "    .dataframe thead th {\n",
       "        text-align: right;\n",
       "    }\n",
       "</style>\n",
       "<table border=\"1\" class=\"dataframe\">\n",
       "  <thead>\n",
       "    <tr style=\"text-align: right;\">\n",
       "      <th></th>\n",
       "      <th>rank</th>\n",
       "      <th>discipline</th>\n",
       "      <th>phd</th>\n",
       "      <th>service</th>\n",
       "      <th>sex</th>\n",
       "    </tr>\n",
       "  </thead>\n",
       "  <tbody>\n",
       "    <tr>\n",
       "      <th>1</th>\n",
       "      <td>Prof</td>\n",
       "      <td>A</td>\n",
       "      <td>12</td>\n",
       "      <td>6</td>\n",
       "      <td>Male</td>\n",
       "    </tr>\n",
       "    <tr>\n",
       "      <th>2</th>\n",
       "      <td>Prof</td>\n",
       "      <td>A</td>\n",
       "      <td>23</td>\n",
       "      <td>20</td>\n",
       "      <td>Male</td>\n",
       "    </tr>\n",
       "    <tr>\n",
       "      <th>3</th>\n",
       "      <td>Prof</td>\n",
       "      <td>A</td>\n",
       "      <td>40</td>\n",
       "      <td>31</td>\n",
       "      <td>Male</td>\n",
       "    </tr>\n",
       "    <tr>\n",
       "      <th>4</th>\n",
       "      <td>Prof</td>\n",
       "      <td>B</td>\n",
       "      <td>20</td>\n",
       "      <td>18</td>\n",
       "      <td>Male</td>\n",
       "    </tr>\n",
       "    <tr>\n",
       "      <th>5</th>\n",
       "      <td>Prof</td>\n",
       "      <td>A</td>\n",
       "      <td>20</td>\n",
       "      <td>20</td>\n",
       "      <td>Male</td>\n",
       "    </tr>\n",
       "    <tr>\n",
       "      <th>6</th>\n",
       "      <td>AssocProf</td>\n",
       "      <td>A</td>\n",
       "      <td>20</td>\n",
       "      <td>17</td>\n",
       "      <td>Male</td>\n",
       "    </tr>\n",
       "    <tr>\n",
       "      <th>7</th>\n",
       "      <td>Prof</td>\n",
       "      <td>A</td>\n",
       "      <td>18</td>\n",
       "      <td>18</td>\n",
       "      <td>Male</td>\n",
       "    </tr>\n",
       "    <tr>\n",
       "      <th>8</th>\n",
       "      <td>Prof</td>\n",
       "      <td>A</td>\n",
       "      <td>29</td>\n",
       "      <td>19</td>\n",
       "      <td>Male</td>\n",
       "    </tr>\n",
       "    <tr>\n",
       "      <th>9</th>\n",
       "      <td>Prof</td>\n",
       "      <td>A</td>\n",
       "      <td>51</td>\n",
       "      <td>51</td>\n",
       "      <td>Male</td>\n",
       "    </tr>\n",
       "    <tr>\n",
       "      <th>10</th>\n",
       "      <td>Prof</td>\n",
       "      <td>B</td>\n",
       "      <td>39</td>\n",
       "      <td>33</td>\n",
       "      <td>Male</td>\n",
       "    </tr>\n",
       "  </tbody>\n",
       "</table>\n",
       "</div>"
      ],
      "text/plain": [
       "         rank discipline  phd  service   sex\n",
       "1        Prof          A   12        6  Male\n",
       "2        Prof          A   23       20  Male\n",
       "3        Prof          A   40       31  Male\n",
       "4        Prof          B   20       18  Male\n",
       "5        Prof          A   20       20  Male\n",
       "6   AssocProf          A   20       17  Male\n",
       "7        Prof          A   18       18  Male\n",
       "8        Prof          A   29       19  Male\n",
       "9        Prof          A   51       51  Male\n",
       "10       Prof          B   39       33  Male"
      ]
     },
     "execution_count": 77,
     "metadata": {},
     "output_type": "execute_result"
    }
   ],
   "source": [
    "# Slicing based on range of index positions\n",
    "# remember, if you want to get rows 1-10, then you need to add + 1 to the end, \n",
    "df.iloc[1:11, 0:-1]"
   ]
  },
  {
   "cell_type": "code",
   "execution_count": 81,
   "id": "05609f38-9751-4e43-874d-999df32983e8",
   "metadata": {},
   "outputs": [
    {
     "data": {
      "text/html": [
       "<div>\n",
       "<style scoped>\n",
       "    .dataframe tbody tr th:only-of-type {\n",
       "        vertical-align: middle;\n",
       "    }\n",
       "\n",
       "    .dataframe tbody tr th {\n",
       "        vertical-align: top;\n",
       "    }\n",
       "\n",
       "    .dataframe thead th {\n",
       "        text-align: right;\n",
       "    }\n",
       "</style>\n",
       "<table border=\"1\" class=\"dataframe\">\n",
       "  <thead>\n",
       "    <tr style=\"text-align: right;\">\n",
       "      <th></th>\n",
       "      <th>rank</th>\n",
       "      <th>sex</th>\n",
       "      <th>salary</th>\n",
       "    </tr>\n",
       "  </thead>\n",
       "  <tbody>\n",
       "    <tr>\n",
       "      <th>1</th>\n",
       "      <td>Prof</td>\n",
       "      <td>Male</td>\n",
       "      <td>93000</td>\n",
       "    </tr>\n",
       "    <tr>\n",
       "      <th>2</th>\n",
       "      <td>Prof</td>\n",
       "      <td>Male</td>\n",
       "      <td>110515</td>\n",
       "    </tr>\n",
       "    <tr>\n",
       "      <th>3</th>\n",
       "      <td>Prof</td>\n",
       "      <td>Male</td>\n",
       "      <td>131205</td>\n",
       "    </tr>\n",
       "    <tr>\n",
       "      <th>4</th>\n",
       "      <td>Prof</td>\n",
       "      <td>Male</td>\n",
       "      <td>104800</td>\n",
       "    </tr>\n",
       "    <tr>\n",
       "      <th>5</th>\n",
       "      <td>Prof</td>\n",
       "      <td>Male</td>\n",
       "      <td>122400</td>\n",
       "    </tr>\n",
       "    <tr>\n",
       "      <th>6</th>\n",
       "      <td>AssocProf</td>\n",
       "      <td>Male</td>\n",
       "      <td>81285</td>\n",
       "    </tr>\n",
       "    <tr>\n",
       "      <th>7</th>\n",
       "      <td>Prof</td>\n",
       "      <td>Male</td>\n",
       "      <td>126300</td>\n",
       "    </tr>\n",
       "    <tr>\n",
       "      <th>8</th>\n",
       "      <td>Prof</td>\n",
       "      <td>Male</td>\n",
       "      <td>94350</td>\n",
       "    </tr>\n",
       "    <tr>\n",
       "      <th>9</th>\n",
       "      <td>Prof</td>\n",
       "      <td>Male</td>\n",
       "      <td>57800</td>\n",
       "    </tr>\n",
       "    <tr>\n",
       "      <th>10</th>\n",
       "      <td>Prof</td>\n",
       "      <td>Male</td>\n",
       "      <td>128250</td>\n",
       "    </tr>\n",
       "  </tbody>\n",
       "</table>\n",
       "</div>"
      ],
      "text/plain": [
       "         rank   sex  salary\n",
       "1        Prof  Male   93000\n",
       "2        Prof  Male  110515\n",
       "3        Prof  Male  131205\n",
       "4        Prof  Male  104800\n",
       "5        Prof  Male  122400\n",
       "6   AssocProf  Male   81285\n",
       "7        Prof  Male  126300\n",
       "8        Prof  Male   94350\n",
       "9        Prof  Male   57800\n",
       "10       Prof  Male  128250"
      ]
     },
     "execution_count": 81,
     "metadata": {},
     "output_type": "execute_result"
    }
   ],
   "source": [
    "# Slicing based on specific column index positions and row index range\n",
    "# You just need to pass a list of column indexes\n",
    "df.iloc[1:11, [0, -2, -1]]"
   ]
  },
  {
   "cell_type": "code",
   "execution_count": 83,
   "id": "169b613c-09c3-4d51-b6cd-d9425409bce7",
   "metadata": {},
   "outputs": [
    {
     "data": {
      "text/html": [
       "<div>\n",
       "<style scoped>\n",
       "    .dataframe tbody tr th:only-of-type {\n",
       "        vertical-align: middle;\n",
       "    }\n",
       "\n",
       "    .dataframe tbody tr th {\n",
       "        vertical-align: top;\n",
       "    }\n",
       "\n",
       "    .dataframe thead th {\n",
       "        text-align: right;\n",
       "    }\n",
       "</style>\n",
       "<table border=\"1\" class=\"dataframe\">\n",
       "  <thead>\n",
       "    <tr style=\"text-align: right;\">\n",
       "      <th></th>\n",
       "      <th>rank</th>\n",
       "      <th>sex</th>\n",
       "      <th>salary</th>\n",
       "    </tr>\n",
       "  </thead>\n",
       "  <tbody>\n",
       "    <tr>\n",
       "      <th>0</th>\n",
       "      <td>Prof</td>\n",
       "      <td>Male</td>\n",
       "      <td>186960</td>\n",
       "    </tr>\n",
       "    <tr>\n",
       "      <th>1</th>\n",
       "      <td>Prof</td>\n",
       "      <td>Male</td>\n",
       "      <td>93000</td>\n",
       "    </tr>\n",
       "    <tr>\n",
       "      <th>5</th>\n",
       "      <td>Prof</td>\n",
       "      <td>Male</td>\n",
       "      <td>122400</td>\n",
       "    </tr>\n",
       "    <tr>\n",
       "      <th>9</th>\n",
       "      <td>Prof</td>\n",
       "      <td>Male</td>\n",
       "      <td>57800</td>\n",
       "    </tr>\n",
       "  </tbody>\n",
       "</table>\n",
       "</div>"
      ],
      "text/plain": [
       "   rank   sex  salary\n",
       "0  Prof  Male  186960\n",
       "1  Prof  Male   93000\n",
       "5  Prof  Male  122400\n",
       "9  Prof  Male   57800"
      ]
     },
     "execution_count": 83,
     "metadata": {},
     "output_type": "execute_result"
    }
   ],
   "source": [
    "# Extraction based on specific row index positions and specific  column index positinos\n",
    "df.iloc[[0,1,5,9], [0,-2,-1]]"
   ]
  },
  {
   "cell_type": "code",
   "execution_count": null,
   "id": "ad78499f-5be2-4f56-883e-208f259ad332",
   "metadata": {},
   "outputs": [],
   "source": []
  }
 ],
 "metadata": {
  "kernelspec": {
   "display_name": "Python 3 (ipykernel)",
   "language": "python",
   "name": "python3"
  },
  "language_info": {
   "codemirror_mode": {
    "name": "ipython",
    "version": 3
   },
   "file_extension": ".py",
   "mimetype": "text/x-python",
   "name": "python",
   "nbconvert_exporter": "python",
   "pygments_lexer": "ipython3",
   "version": "3.8.10"
  }
 },
 "nbformat": 4,
 "nbformat_minor": 5
}
