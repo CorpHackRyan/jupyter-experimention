{
 "cells": [
  {
   "cell_type": "code",
   "execution_count": 1,
   "id": "9e50e568-48cc-4626-a6cd-1580a54f3288",
   "metadata": {},
   "outputs": [
    {
     "name": "stdout",
     "output_type": "stream",
     "text": [
      "30\n"
     ]
    }
   ],
   "source": [
    "a=10\n",
    "b=20\n",
    "c=a+b\n",
    "print(c)\n"
   ]
  },
  {
   "cell_type": "code",
   "execution_count": 2,
   "id": "c4e671bd-69db-4d5d-88aa-5c837b7d8ff5",
   "metadata": {
    "tags": []
   },
   "outputs": [
    {
     "name": "stdout",
     "output_type": "stream",
     "text": [
      "hello world\n"
     ]
    }
   ],
   "source": [
    "print('hello world')"
   ]
  },
  {
   "cell_type": "code",
   "execution_count": 7,
   "id": "af490647-0667-45e1-a717-61c2de1c2524",
   "metadata": {},
   "outputs": [
    {
     "name": "stdout",
     "output_type": "stream",
     "text": [
      "100\n"
     ]
    }
   ],
   "source": [
    "print(a)"
   ]
  },
  {
   "cell_type": "code",
   "execution_count": 6,
   "id": "57264c1d-1d85-46b6-9734-601fe4ef50d7",
   "metadata": {},
   "outputs": [],
   "source": [
    "a=100"
   ]
  },
  {
   "cell_type": "code",
   "execution_count": 11,
   "id": "6ecf9c72-1947-426a-89be-b0c760337ceb",
   "metadata": {},
   "outputs": [],
   "source": [
    "# Conditional Slicing on Arrays\n"
   ]
  },
  {
   "cell_type": "code",
   "execution_count": 2,
   "id": "bdd0b2ee-5879-4664-8e58-34044d23f4ca",
   "metadata": {},
   "outputs": [],
   "source": [
    "import numpy as np\n",
    "height = [1.87, 1.87, 1.82, 1.91, 1.90, 1.85]\n",
    "weight = [81.65, 97.52, 95.25, 92.98, 86.18, 88.45]\n",
    "\n",
    "arr_height = np.array(height)\n",
    "arr_weight = np.array(weight)\n",
    "\n",
    "bmi = arr_weight / arr_height **2\n",
    "\n"
   ]
  },
  {
   "cell_type": "code",
   "execution_count": 3,
   "id": "b1f6725d-64cd-4549-8021-db64acc71339",
   "metadata": {},
   "outputs": [
    {
     "data": {
      "text/plain": [
       "array([27.88755755, 28.75558507, 25.48723993, 25.84368152])"
      ]
     },
     "execution_count": 3,
     "metadata": {},
     "output_type": "execute_result"
    }
   ],
   "source": [
    "bmi[[False, True, True, True, False, True]]\n"
   ]
  },
  {
   "cell_type": "code",
   "execution_count": 7,
   "id": "43810ebc-76e8-4b00-8ff6-1659751ef8ba",
   "metadata": {},
   "outputs": [
    {
     "data": {
      "text/plain": [
       "array([False,  True,  True,  True, False,  True])"
      ]
     },
     "execution_count": 7,
     "metadata": {},
     "output_type": "execute_result"
    }
   ],
   "source": [
    "bmi>=25"
   ]
  },
  {
   "cell_type": "code",
   "execution_count": 8,
   "id": "7f175333-95ca-41e6-8e5f-6e549afa4bf7",
   "metadata": {},
   "outputs": [
    {
     "data": {
      "text/plain": [
       "array([False,  True, False,  True, False,  True])"
      ]
     },
     "execution_count": 8,
     "metadata": {},
     "output_type": "execute_result"
    }
   ],
   "source": [
    "(bmi>25) & (bmi<28)"
   ]
  },
  {
   "cell_type": "code",
   "execution_count": 9,
   "id": "15b49ada-1c4a-4935-b039-5b2216279a1b",
   "metadata": {},
   "outputs": [
    {
     "data": {
      "text/plain": [
       "array([27.88755755, 25.48723993, 25.84368152])"
      ]
     },
     "execution_count": 9,
     "metadata": {},
     "output_type": "execute_result"
    }
   ],
   "source": [
    "bmi[(bmi>25) & (bmi<28)]"
   ]
  },
  {
   "cell_type": "code",
   "execution_count": 4,
   "id": "aa7e48d9-2012-4da5-9088-651e94e016e7",
   "metadata": {},
   "outputs": [
    {
     "data": {
      "text/plain": [
       "3"
      ]
     },
     "execution_count": 4,
     "metadata": {},
     "output_type": "execute_result"
    }
   ],
   "source": [
    "# important to note below, sum here returns total amount of elements in list\n",
    "sum((bmi>25) & (bmi<28))"
   ]
  },
  {
   "cell_type": "code",
   "execution_count": 5,
   "id": "e62ccc57-07a2-4d50-be09-8f0d064c72da",
   "metadata": {},
   "outputs": [
    {
     "data": {
      "text/plain": [
       "155.1958924497996"
      ]
     },
     "execution_count": 5,
     "metadata": {},
     "output_type": "execute_result"
    }
   ],
   "source": [
    "# sum below will return total sum of numbers\n",
    "bmi.sum()\n"
   ]
  },
  {
   "cell_type": "code",
   "execution_count": 6,
   "id": "3d00171c-84c4-4869-8d24-cec9c32c8253",
   "metadata": {},
   "outputs": [
    {
     "data": {
      "text/plain": [
       "155.1958924497996"
      ]
     },
     "execution_count": 6,
     "metadata": {},
     "output_type": "execute_result"
    }
   ],
   "source": [
    "np.sum(bmi)"
   ]
  },
  {
   "cell_type": "code",
   "execution_count": 7,
   "id": "d2233bce-e9f8-40da-a240-d3f1fab0fdd5",
   "metadata": {},
   "outputs": [
    {
     "data": {
      "text/plain": [
       "155.1958924497996"
      ]
     },
     "execution_count": 7,
     "metadata": {},
     "output_type": "execute_result"
    }
   ],
   "source": [
    "bmi.sum()"
   ]
  },
  {
   "cell_type": "code",
   "execution_count": 8,
   "id": "5e4e6fc3-6f08-4526-b0e0-0c0a56a0e2ee",
   "metadata": {},
   "outputs": [
    {
     "data": {
      "text/plain": [
       "['ArithmeticError',\n",
       " 'AssertionError',\n",
       " 'AttributeError',\n",
       " 'BaseException',\n",
       " 'BlockingIOError',\n",
       " 'BrokenPipeError',\n",
       " 'BufferError',\n",
       " 'BytesWarning',\n",
       " 'ChildProcessError',\n",
       " 'ConnectionAbortedError',\n",
       " 'ConnectionError',\n",
       " 'ConnectionRefusedError',\n",
       " 'ConnectionResetError',\n",
       " 'DeprecationWarning',\n",
       " 'EOFError',\n",
       " 'Ellipsis',\n",
       " 'EnvironmentError',\n",
       " 'Exception',\n",
       " 'False',\n",
       " 'FileExistsError',\n",
       " 'FileNotFoundError',\n",
       " 'FloatingPointError',\n",
       " 'FutureWarning',\n",
       " 'GeneratorExit',\n",
       " 'IOError',\n",
       " 'ImportError',\n",
       " 'ImportWarning',\n",
       " 'IndentationError',\n",
       " 'IndexError',\n",
       " 'InterruptedError',\n",
       " 'IsADirectoryError',\n",
       " 'KeyError',\n",
       " 'KeyboardInterrupt',\n",
       " 'LookupError',\n",
       " 'MemoryError',\n",
       " 'ModuleNotFoundError',\n",
       " 'NameError',\n",
       " 'None',\n",
       " 'NotADirectoryError',\n",
       " 'NotImplemented',\n",
       " 'NotImplementedError',\n",
       " 'OSError',\n",
       " 'OverflowError',\n",
       " 'PendingDeprecationWarning',\n",
       " 'PermissionError',\n",
       " 'ProcessLookupError',\n",
       " 'RecursionError',\n",
       " 'ReferenceError',\n",
       " 'ResourceWarning',\n",
       " 'RuntimeError',\n",
       " 'RuntimeWarning',\n",
       " 'StopAsyncIteration',\n",
       " 'StopIteration',\n",
       " 'SyntaxError',\n",
       " 'SyntaxWarning',\n",
       " 'SystemError',\n",
       " 'SystemExit',\n",
       " 'TabError',\n",
       " 'TimeoutError',\n",
       " 'True',\n",
       " 'TypeError',\n",
       " 'UnboundLocalError',\n",
       " 'UnicodeDecodeError',\n",
       " 'UnicodeEncodeError',\n",
       " 'UnicodeError',\n",
       " 'UnicodeTranslateError',\n",
       " 'UnicodeWarning',\n",
       " 'UserWarning',\n",
       " 'ValueError',\n",
       " 'Warning',\n",
       " 'ZeroDivisionError',\n",
       " '__IPYTHON__',\n",
       " '__build_class__',\n",
       " '__debug__',\n",
       " '__doc__',\n",
       " '__import__',\n",
       " '__loader__',\n",
       " '__name__',\n",
       " '__package__',\n",
       " '__spec__',\n",
       " 'abs',\n",
       " 'all',\n",
       " 'any',\n",
       " 'ascii',\n",
       " 'bin',\n",
       " 'bool',\n",
       " 'breakpoint',\n",
       " 'bytearray',\n",
       " 'bytes',\n",
       " 'callable',\n",
       " 'chr',\n",
       " 'classmethod',\n",
       " 'compile',\n",
       " 'complex',\n",
       " 'copyright',\n",
       " 'credits',\n",
       " 'delattr',\n",
       " 'dict',\n",
       " 'dir',\n",
       " 'display',\n",
       " 'divmod',\n",
       " 'enumerate',\n",
       " 'eval',\n",
       " 'exec',\n",
       " 'execfile',\n",
       " 'filter',\n",
       " 'float',\n",
       " 'format',\n",
       " 'frozenset',\n",
       " 'get_ipython',\n",
       " 'getattr',\n",
       " 'globals',\n",
       " 'hasattr',\n",
       " 'hash',\n",
       " 'help',\n",
       " 'hex',\n",
       " 'id',\n",
       " 'input',\n",
       " 'int',\n",
       " 'isinstance',\n",
       " 'issubclass',\n",
       " 'iter',\n",
       " 'len',\n",
       " 'license',\n",
       " 'list',\n",
       " 'locals',\n",
       " 'map',\n",
       " 'max',\n",
       " 'memoryview',\n",
       " 'min',\n",
       " 'next',\n",
       " 'object',\n",
       " 'oct',\n",
       " 'open',\n",
       " 'ord',\n",
       " 'pow',\n",
       " 'print',\n",
       " 'property',\n",
       " 'range',\n",
       " 'repr',\n",
       " 'reversed',\n",
       " 'round',\n",
       " 'runfile',\n",
       " 'set',\n",
       " 'setattr',\n",
       " 'slice',\n",
       " 'sorted',\n",
       " 'staticmethod',\n",
       " 'str',\n",
       " 'sum',\n",
       " 'super',\n",
       " 'tuple',\n",
       " 'type',\n",
       " 'vars',\n",
       " 'zip']"
      ]
     },
     "execution_count": 8,
     "metadata": {},
     "output_type": "execute_result"
    }
   ],
   "source": [
    "# the dir functions allow you to see all the functions available to you in jupter  \n",
    "# __builtin__\n",
    "dir(__builtin__)"
   ]
  },
  {
   "cell_type": "code",
   "execution_count": 12,
   "id": "1f68eca7-969a-42e2-a21f-83d6f89c7994",
   "metadata": {},
   "outputs": [],
   "source": [
    "#### Conditional Slicing for index positions"
   ]
  },
  {
   "cell_type": "code",
   "execution_count": 15,
   "id": "15f05719-937e-464f-89fc-9c80b7daaa03",
   "metadata": {},
   "outputs": [
    {
     "data": {
      "text/plain": [
       "array(['y', 'x', 'x', 'x', 'y', 'x'], dtype='<U1')"
      ]
     },
     "execution_count": 15,
     "metadata": {},
     "output_type": "execute_result"
    }
   ],
   "source": [
    "np.where(bmi>25, 'x', 'y') # return x if condition is satisfied, return y if condition is NOT satisfied"
   ]
  },
  {
   "cell_type": "code",
   "execution_count": 16,
   "id": "a7e59d1f-6e50-4195-99fe-53bce9784607",
   "metadata": {},
   "outputs": [
    {
     "data": {
      "text/plain": [
       "(array([1, 2, 3, 5]),)"
      ]
     },
     "execution_count": 16,
     "metadata": {},
     "output_type": "execute_result"
    }
   ],
   "source": [
    "np.where(bmi>25) # give you the index positions that satisfy the condition"
   ]
  },
  {
   "cell_type": "code",
   "execution_count": 17,
   "id": "37675168-3b35-4e60-b3a1-95c175dfe412",
   "metadata": {},
   "outputs": [
    {
     "data": {
      "text/plain": [
       "array([27.88755755, 28.75558507, 25.48723993, 25.84368152])"
      ]
     },
     "execution_count": 17,
     "metadata": {},
     "output_type": "execute_result"
    }
   ],
   "source": [
    "bmi[np.where(bmi>25)]"
   ]
  },
  {
   "cell_type": "code",
   "execution_count": null,
   "id": "55ad5728-f821-4c48-b299-98866cd43eab",
   "metadata": {},
   "outputs": [],
   "source": []
  }
 ],
 "metadata": {
  "kernelspec": {
   "display_name": "Python 3 (ipykernel)",
   "language": "python",
   "name": "python3"
  },
  "language_info": {
   "codemirror_mode": {
    "name": "ipython",
    "version": 3
   },
   "file_extension": ".py",
   "mimetype": "text/x-python",
   "name": "python",
   "nbconvert_exporter": "python",
   "pygments_lexer": "ipython3",
   "version": "3.8.10"
  }
 },
 "nbformat": 4,
 "nbformat_minor": 5
}
